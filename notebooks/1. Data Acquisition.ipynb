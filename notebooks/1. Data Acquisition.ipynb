{
 "cells": [
  {
   "cell_type": "code",
   "execution_count": 54,
   "metadata": {
    "collapsed": false
   },
   "outputs": [
    {
     "name": "stdout",
     "output_type": "stream",
     "text": [
      "The autoreload extension is already loaded. To reload it, use:\n",
      "  %reload_ext autoreload\n",
      "Populating the interactive namespace from numpy and matplotlib\n"
     ]
    }
   ],
   "source": [
    "import requests\n",
    "import json\n",
    "import pickle_util\n",
    "\n",
    "from elasticsearch import Elasticsearch\n",
    "\n",
    "%load_ext autoreload\n",
    "%autoreload 2\n",
    "%pylab inline"
   ]
  },
  {
   "cell_type": "code",
   "execution_count": 15,
   "metadata": {
    "collapsed": true
   },
   "outputs": [],
   "source": [
    "# config\n",
    "# g_name = 'dev'\n",
    "# g_name = 'train'\n",
    "g_name = 'full'"
   ]
  },
  {
   "cell_type": "code",
   "execution_count": 16,
   "metadata": {
    "collapsed": false
   },
   "outputs": [],
   "source": [
    "res = requests.get('http://localhost:9200')"
   ]
  },
  {
   "cell_type": "code",
   "execution_count": 17,
   "metadata": {
    "collapsed": true
   },
   "outputs": [],
   "source": [
    "# config\n",
    "api_base_url = '/api/v1'\n",
    "es_base_url = {\n",
    "    'articles': 'http://localhost:9200/articles/article',\n",
    "}"
   ]
  },
  {
   "cell_type": "markdown",
   "metadata": {},
   "source": [
    "Development (dev) dataset, containing the first 10 articles"
   ]
  },
  {
   "cell_type": "code",
   "execution_count": 47,
   "metadata": {
    "collapsed": false
   },
   "outputs": [],
   "source": [
    "url = es_base_url['articles']+'/_search'\n",
    "query = {\n",
    "    'dev' : {\n",
    "        \"query\" : {\n",
    "            \"match_all\" : {},\n",
    "        },\n",
    "        \"size\" : 100\n",
    "    },\n",
    "    'train' : {\n",
    "        \"query\": {\n",
    "            \"match_all\" : {},\n",
    "        },\n",
    "        \"size\" : 1000\n",
    "    },\n",
    "    'full' : {\n",
    "        \"query\": {\n",
    "            \"match_all\" : {},\n",
    "        },\n",
    "        \"size\" : 50000,\n",
    "        \"fields\": ['source']\n",
    "    }\n",
    "}"
   ]
  },
  {
   "cell_type": "code",
   "execution_count": 48,
   "metadata": {
    "collapsed": false
   },
   "outputs": [],
   "source": [
    "resp = requests.post(url, data=json.dumps(query[g_name]))\n",
    "data = resp.json()"
   ]
  },
  {
   "cell_type": "code",
   "execution_count": 50,
   "metadata": {
    "collapsed": false
   },
   "outputs": [
    {
     "name": "stdout",
     "output_type": "stream",
     "text": [
      "{u'status': 500, u'error': {u'failed_shards': [{u'node': u'AdaHwRJtRjOKrDAFo12x4Q', u'index': u'articles', u'reason': {u'reason': u'Result window is too large, from + size must be less than or equal to: [10000] but was [50000]. See the scroll api for a more efficient way to request large data sets. This limit can be set by changing the [index.max_result_window] index level parameter.', u'type': u'query_phase_execution_exception'}, u'shard': 0}], u'root_cause': [{u'reason': u'Result window is too large, from + size must be less than or equal to: [10000] but was [50000]. See the scroll api for a more efficient way to request large data sets. This limit can be set by changing the [index.max_result_window] index level parameter.', u'type': u'query_phase_execution_exception'}], u'grouped': True, u'reason': u'all shards failed', u'phase': u'query', u'type': u'search_phase_execution_exception'}}\n"
     ]
    }
   ],
   "source": [
    "print data"
   ]
  },
  {
   "cell_type": "code",
   "execution_count": 49,
   "metadata": {
    "collapsed": false
   },
   "outputs": [
    {
     "ename": "KeyError",
     "evalue": "'hits'",
     "output_type": "error",
     "traceback": [
      "\u001b[0;31m---------------------------------------------------------------------------\u001b[0m",
      "\u001b[0;31mKeyError\u001b[0m                                  Traceback (most recent call last)",
      "\u001b[0;32m<ipython-input-49-82a75e3cdb27>\u001b[0m in \u001b[0;36m<module>\u001b[0;34m()\u001b[0m\n\u001b[0;32m----> 1\u001b[0;31m \u001b[0;32mprint\u001b[0m \u001b[0mlen\u001b[0m\u001b[0;34m(\u001b[0m\u001b[0mdata\u001b[0m\u001b[0;34m[\u001b[0m\u001b[0;34m'hits'\u001b[0m\u001b[0;34m]\u001b[0m\u001b[0;34m[\u001b[0m\u001b[0;34m'hits'\u001b[0m\u001b[0;34m]\u001b[0m\u001b[0;34m)\u001b[0m\u001b[0;34m\u001b[0m\u001b[0m\n\u001b[0m",
      "\u001b[0;31mKeyError\u001b[0m: 'hits'"
     ]
    }
   ],
   "source": [
    "print len(data['hits']['hits'])"
   ]
  },
  {
   "cell_type": "code",
   "execution_count": 29,
   "metadata": {
    "collapsed": false
   },
   "outputs": [],
   "source": [
    "pickle_util.save_obj(data, g_name)"
   ]
  },
  {
   "cell_type": "code",
   "execution_count": 9,
   "metadata": {
    "collapsed": false
   },
   "outputs": [
    {
     "name": "stdout",
     "output_type": "stream",
     "text": [
      "<type 'list'>\n"
     ]
    }
   ],
   "source": [
    "print type(data['hits']['hits'])"
   ]
  },
  {
   "cell_type": "code",
   "execution_count": 30,
   "metadata": {
    "collapsed": true
   },
   "outputs": [],
   "source": [
    "import pandas as pd"
   ]
  },
  {
   "cell_type": "code",
   "execution_count": 34,
   "metadata": {
    "collapsed": false
   },
   "outputs": [
    {
     "data": {
      "text/html": [
       "<div>\n",
       "<table border=\"1\" class=\"dataframe\">\n",
       "  <thead>\n",
       "    <tr style=\"text-align: right;\">\n",
       "      <th></th>\n",
       "      <th>author</th>\n",
       "      <th>canonical-source</th>\n",
       "      <th>canonical-source-name</th>\n",
       "      <th>content</th>\n",
       "      <th>detected-language</th>\n",
       "      <th>english-language-confidence</th>\n",
       "      <th>feed</th>\n",
       "      <th>language</th>\n",
       "      <th>language-confidences</th>\n",
       "      <th>media-type</th>\n",
       "      <th>...</th>\n",
       "      <th>source</th>\n",
       "      <th>source-groups</th>\n",
       "      <th>spotlight-entities</th>\n",
       "      <th>stanford-entities</th>\n",
       "      <th>story-uuid</th>\n",
       "      <th>summary</th>\n",
       "      <th>title</th>\n",
       "      <th>topics</th>\n",
       "      <th>tracking-url</th>\n",
       "      <th>url</th>\n",
       "    </tr>\n",
       "  </thead>\n",
       "  <tbody>\n",
       "    <tr>\n",
       "      <th>0</th>\n",
       "      <td>Liz McMillan</td>\n",
       "      <td>caaf6463-bb6b-422a-848f-fa2c8c74ee5d</td>\n",
       "      <td>Sys-Con Italia</td>\n",
       "      <td>NEW YORK, Sept. 1, 2015 /PRNewswire/ -- Radiat...</td>\n",
       "      <td>en</td>\n",
       "      <td>0.999997906887078</td>\n",
       "      <td>MOREOVER</td>\n",
       "      <td>English</td>\n",
       "      <td>{u'en': u'0.999997906887078'}</td>\n",
       "      <td>News</td>\n",
       "      <td>...</td>\n",
       "      <td>Sys-Con Italia</td>\n",
       "      <td>[]</td>\n",
       "      <td>[{u'confidence': 0.395171647599, u'annotation-...</td>\n",
       "      <td>[{u'start-offset': 36, u'surface-form': u'Asia...</td>\n",
       "      <td>87c94bca-7864-44ac-be1b-e546a21acd9c</td>\n",
       "      <td>NEW YORK, Sept. 1, 2015 /PRNewswire/ -- Radiat...</td>\n",
       "      <td>Global Market Study on Gamma Knife: Asia to Wi...</td>\n",
       "      <td>[]</td>\n",
       "      <td>http://ct.moreover.com/?a=22517042385&amp;p=1h4&amp;v=...</td>\n",
       "      <td>http://article.signal.uk.com/8f78fdd9-103a-4e5...</td>\n",
       "    </tr>\n",
       "    <tr>\n",
       "      <th>1</th>\n",
       "      <td>NaN</td>\n",
       "      <td>e8c5bd87-07f0-4586-b629-12fa0be55e4d</td>\n",
       "      <td>ABC30</td>\n",
       "      <td>BEREA, Ohio -- Browns quarterback Johnny Manzi...</td>\n",
       "      <td>en</td>\n",
       "      <td>0.9999959955911536</td>\n",
       "      <td>MOREOVER</td>\n",
       "      <td>English</td>\n",
       "      <td>{u'en': u'0.9999959955911536'}</td>\n",
       "      <td>News</td>\n",
       "      <td>...</td>\n",
       "      <td>ABC30</td>\n",
       "      <td>[]</td>\n",
       "      <td>[{u'confidence': 0.504678928234, u'annotation-...</td>\n",
       "      <td>[{u'start-offset': 0, u'surface-form': u'Johnn...</td>\n",
       "      <td>3288c28a-f87d-4d69-905e-290c07b657f3</td>\n",
       "      <td>BEREA, Ohio -- Browns quarterback Johnny Manzi...</td>\n",
       "      <td>Johnny Manziel says surgery not necessary on s...</td>\n",
       "      <td>[]</td>\n",
       "      <td>http://ct.moreover.com/?a=22516063214&amp;p=1h4&amp;v=...</td>\n",
       "      <td>http://article.signal.uk.com/dca8a22b-782f-464...</td>\n",
       "    </tr>\n",
       "    <tr>\n",
       "      <th>2</th>\n",
       "      <td>Chris Boulous</td>\n",
       "      <td>99c32fa4-47f8-4ccd-9a39-75129ee3c3d2</td>\n",
       "      <td>Hills News</td>\n",
       "      <td>By Aug. 31, 2015, 2:53 p.m. \\n\\nSYDNEY, AUSTRA...</td>\n",
       "      <td>en</td>\n",
       "      <td>0.9999987045747505</td>\n",
       "      <td>MOREOVER</td>\n",
       "      <td>English</td>\n",
       "      <td>{u'en': u'0.9999987045747505'}</td>\n",
       "      <td>News</td>\n",
       "      <td>...</td>\n",
       "      <td>Hills News</td>\n",
       "      <td>[]</td>\n",
       "      <td>[{u'confidence': 0.314977491442, u'annotation-...</td>\n",
       "      <td>[{u'start-offset': 30, u'surface-form': u'SYDN...</td>\n",
       "      <td>8473cbff-63b5-4756-a494-2ae9a2d3efb8</td>\n",
       "      <td>By Aug. 31, 2015, 2:53 p.m. \\n\\nSYDNEY, AUSTRA...</td>\n",
       "      <td>Eels' turbulent year not all bad with signs of...</td>\n",
       "      <td>[]</td>\n",
       "      <td>http://ct.moreover.com/?a=22506721588&amp;p=1h4&amp;v=...</td>\n",
       "      <td>http://article.signal.uk.com/a447027e-a801-448...</td>\n",
       "    </tr>\n",
       "    <tr>\n",
       "      <th>3</th>\n",
       "      <td>NaN</td>\n",
       "      <td>17694b80-268c-454d-a054-1c19e67b22ac</td>\n",
       "      <td>Albuquerque News.Net</td>\n",
       "      <td>APS superintendent resigns CFOs lawsuit remain...</td>\n",
       "      <td>en</td>\n",
       "      <td>0.9999968457555863</td>\n",
       "      <td>MOREOVER</td>\n",
       "      <td>English</td>\n",
       "      <td>{u'en': u'0.9999968457555863'}</td>\n",
       "      <td>News</td>\n",
       "      <td>...</td>\n",
       "      <td>Albuquerque News.Net</td>\n",
       "      <td>[]</td>\n",
       "      <td>[{u'confidence': 0.190819287906, u'annotation-...</td>\n",
       "      <td>[{u'start-offset': 15, u'surface-form': u'Micr...</td>\n",
       "      <td>55dc821e-b0da-4a70-a99e-c153d3c10d01</td>\n",
       "      <td>APS superintendent resigns CFOs lawsuit remain...</td>\n",
       "      <td>Money talks -- Microsoft to provide details of...</td>\n",
       "      <td>[]</td>\n",
       "      <td>http://ct.moreover.com/?a=22515338615&amp;p=1h4&amp;v=...</td>\n",
       "      <td>http://article.signal.uk.com/cdb383f3-3c52-4b9...</td>\n",
       "    </tr>\n",
       "    <tr>\n",
       "      <th>4</th>\n",
       "      <td>NaN</td>\n",
       "      <td>5f199bf0-9a88-480f-bd12-176132b67a6d</td>\n",
       "      <td>WMCTV.com</td>\n",
       "      <td>SOURCE Internet Marketing Association\\n\\nAnnua...</td>\n",
       "      <td>en</td>\n",
       "      <td>0.9999984704998388</td>\n",
       "      <td>MOREOVER</td>\n",
       "      <td>English</td>\n",
       "      <td>{u'en': u'0.9999984704998388'}</td>\n",
       "      <td>News</td>\n",
       "      <td>...</td>\n",
       "      <td>WMCTV.com</td>\n",
       "      <td>[]</td>\n",
       "      <td>[{u'confidence': 0.394218785416, u'annotation-...</td>\n",
       "      <td>[{u'start-offset': 52, u'surface-form': u'Inte...</td>\n",
       "      <td>8221f8df-d7bd-4e4d-9c36-6b8c4e506de1</td>\n",
       "      <td>SOURCE Internet Marketing Association\\n\\nAnnua...</td>\n",
       "      <td>Influential Thought Leaders to Converge on Sta...</td>\n",
       "      <td>[]</td>\n",
       "      <td>http://ct.moreover.com/?a=22514615177&amp;p=1h4&amp;v=...</td>\n",
       "      <td>http://article.signal.uk.com/331e4b3f-69c9-40b...</td>\n",
       "    </tr>\n",
       "  </tbody>\n",
       "</table>\n",
       "<p>5 rows × 26 columns</p>\n",
       "</div>"
      ],
      "text/plain": [
       "          author                      canonical-source canonical-source-name  \\\n",
       "0   Liz McMillan  caaf6463-bb6b-422a-848f-fa2c8c74ee5d        Sys-Con Italia   \n",
       "1            NaN  e8c5bd87-07f0-4586-b629-12fa0be55e4d                 ABC30   \n",
       "2  Chris Boulous  99c32fa4-47f8-4ccd-9a39-75129ee3c3d2            Hills News   \n",
       "3            NaN  17694b80-268c-454d-a054-1c19e67b22ac  Albuquerque News.Net   \n",
       "4            NaN  5f199bf0-9a88-480f-bd12-176132b67a6d             WMCTV.com   \n",
       "\n",
       "                                             content detected-language  \\\n",
       "0  NEW YORK, Sept. 1, 2015 /PRNewswire/ -- Radiat...                en   \n",
       "1  BEREA, Ohio -- Browns quarterback Johnny Manzi...                en   \n",
       "2  By Aug. 31, 2015, 2:53 p.m. \\n\\nSYDNEY, AUSTRA...                en   \n",
       "3  APS superintendent resigns CFOs lawsuit remain...                en   \n",
       "4  SOURCE Internet Marketing Association\\n\\nAnnua...                en   \n",
       "\n",
       "  english-language-confidence      feed language  \\\n",
       "0           0.999997906887078  MOREOVER  English   \n",
       "1          0.9999959955911536  MOREOVER  English   \n",
       "2          0.9999987045747505  MOREOVER  English   \n",
       "3          0.9999968457555863  MOREOVER  English   \n",
       "4          0.9999984704998388  MOREOVER  English   \n",
       "\n",
       "             language-confidences media-type  \\\n",
       "0   {u'en': u'0.999997906887078'}       News   \n",
       "1  {u'en': u'0.9999959955911536'}       News   \n",
       "2  {u'en': u'0.9999987045747505'}       News   \n",
       "3  {u'en': u'0.9999968457555863'}       News   \n",
       "4  {u'en': u'0.9999984704998388'}       News   \n",
       "\n",
       "                         ...                                        source  \\\n",
       "0                        ...                                Sys-Con Italia   \n",
       "1                        ...                                         ABC30   \n",
       "2                        ...                                    Hills News   \n",
       "3                        ...                          Albuquerque News.Net   \n",
       "4                        ...                                     WMCTV.com   \n",
       "\n",
       "  source-groups                                 spotlight-entities  \\\n",
       "0            []  [{u'confidence': 0.395171647599, u'annotation-...   \n",
       "1            []  [{u'confidence': 0.504678928234, u'annotation-...   \n",
       "2            []  [{u'confidence': 0.314977491442, u'annotation-...   \n",
       "3            []  [{u'confidence': 0.190819287906, u'annotation-...   \n",
       "4            []  [{u'confidence': 0.394218785416, u'annotation-...   \n",
       "\n",
       "                                   stanford-entities  \\\n",
       "0  [{u'start-offset': 36, u'surface-form': u'Asia...   \n",
       "1  [{u'start-offset': 0, u'surface-form': u'Johnn...   \n",
       "2  [{u'start-offset': 30, u'surface-form': u'SYDN...   \n",
       "3  [{u'start-offset': 15, u'surface-form': u'Micr...   \n",
       "4  [{u'start-offset': 52, u'surface-form': u'Inte...   \n",
       "\n",
       "                             story-uuid  \\\n",
       "0  87c94bca-7864-44ac-be1b-e546a21acd9c   \n",
       "1  3288c28a-f87d-4d69-905e-290c07b657f3   \n",
       "2  8473cbff-63b5-4756-a494-2ae9a2d3efb8   \n",
       "3  55dc821e-b0da-4a70-a99e-c153d3c10d01   \n",
       "4  8221f8df-d7bd-4e4d-9c36-6b8c4e506de1   \n",
       "\n",
       "                                             summary  \\\n",
       "0  NEW YORK, Sept. 1, 2015 /PRNewswire/ -- Radiat...   \n",
       "1  BEREA, Ohio -- Browns quarterback Johnny Manzi...   \n",
       "2  By Aug. 31, 2015, 2:53 p.m. \\n\\nSYDNEY, AUSTRA...   \n",
       "3  APS superintendent resigns CFOs lawsuit remain...   \n",
       "4  SOURCE Internet Marketing Association\\n\\nAnnua...   \n",
       "\n",
       "                                               title topics  \\\n",
       "0  Global Market Study on Gamma Knife: Asia to Wi...     []   \n",
       "1  Johnny Manziel says surgery not necessary on s...     []   \n",
       "2  Eels' turbulent year not all bad with signs of...     []   \n",
       "3  Money talks -- Microsoft to provide details of...     []   \n",
       "4  Influential Thought Leaders to Converge on Sta...     []   \n",
       "\n",
       "                                        tracking-url  \\\n",
       "0  http://ct.moreover.com/?a=22517042385&p=1h4&v=...   \n",
       "1  http://ct.moreover.com/?a=22516063214&p=1h4&v=...   \n",
       "2  http://ct.moreover.com/?a=22506721588&p=1h4&v=...   \n",
       "3  http://ct.moreover.com/?a=22515338615&p=1h4&v=...   \n",
       "4  http://ct.moreover.com/?a=22514615177&p=1h4&v=...   \n",
       "\n",
       "                                                 url  \n",
       "0  http://article.signal.uk.com/8f78fdd9-103a-4e5...  \n",
       "1  http://article.signal.uk.com/dca8a22b-782f-464...  \n",
       "2  http://article.signal.uk.com/a447027e-a801-448...  \n",
       "3  http://article.signal.uk.com/cdb383f3-3c52-4b9...  \n",
       "4  http://article.signal.uk.com/331e4b3f-69c9-40b...  \n",
       "\n",
       "[5 rows x 26 columns]"
      ]
     },
     "execution_count": 34,
     "metadata": {},
     "output_type": "execute_result"
    }
   ],
   "source": [
    "df = pd.DataFrame([doc['_source'] for doc in data['hits']['hits']])\n",
    "df.head()"
   ]
  },
  {
   "cell_type": "code",
   "execution_count": 37,
   "metadata": {
    "collapsed": false,
    "scrolled": false
   },
   "outputs": [
    {
     "data": {
      "text/plain": [
       "MyInforms                                                         192\n",
       "Individual.com                                                     65\n",
       "4 Traders                                                          52\n",
       "Marketplace                                                        46\n",
       "Yahoo! Finance                                                     45\n",
       "Reuters                                                            43\n",
       "Fat Pitch Financials                                               41\n",
       "Town Hall                                                          40\n",
       "Mail Online UK                                                     39\n",
       "Wall Street Business Network                                       39\n",
       "Market Pulse Navigator                                             38\n",
       "Bloomberg                                                          37\n",
       "App.ViralNewsChart.com                                             36\n",
       "NewsR.in                                                           36\n",
       "Latest Nigerian News.com                                           35\n",
       "BioSpace                                                           34\n",
       "Pettinga Financial Advisors                                        34\n",
       "Wall Street Select                                                 33\n",
       "EIN News                                                           30\n",
       "SearchBug                                                          29\n",
       "Yahoo! India                                                       29\n",
       "CEOWorld Magazine                                                  29\n",
       "Financial Content                                                  28\n",
       "Yahoo! News Australia                                              26\n",
       "Stock Nod                                                          25\n",
       "Good Day Sacramento                                                24\n",
       "WorldNetDaily                                                      24\n",
       "Uncova                                                             24\n",
       "WSFA                                                               22\n",
       "WFMJ 21 - TV                                                       21\n",
       "                                                                 ... \n",
       "\" My WaY oF LifE\"                                                   1\n",
       "Oil N' Gold                                                         1\n",
       "Custom training and elearning, anywhere anytime!                    1\n",
       "LabourList                                                          1\n",
       "Sedona.Biz - The Internet Voice of Sedona and The Verde Valley      1\n",
       "RK.md                                                               1\n",
       "97.1 AMP Radio                                                      1\n",
       "WLS-AM                                                              1\n",
       "Whispers...                                                         1\n",
       "Forrester                                                           1\n",
       "BYM News                                                            1\n",
       "Borehamwood Times                                                   1\n",
       "PhilaPhans - Philadelphia Sports Forums - Message Board - Blog      1\n",
       "Mansfield News Journal                                              1\n",
       "Waller County News Citizen                                          1\n",
       "Sleepy Eye Herald Dispatch                                          1\n",
       "Get Online Votes                                                    1\n",
       "Inside Futbol                                                       1\n",
       "Eagle Peak Blog                                                     1\n",
       "Media Life Magazine                                                 1\n",
       "The Commercial Curmudgeon                                           1\n",
       "Smart Business                                                      1\n",
       "AAPL - News and Analysis from Seeking Alpha                         1\n",
       "Bollywoodlife.com                                                   1\n",
       "Ecommercebytes.com                                                  1\n",
       "Rye and Battle Observer                                             1\n",
       "Wicked Local Boxborough                                             1\n",
       "M2                                                                  1\n",
       "Harborough Today                                                    1\n",
       "Bedford Today                                                       1\n",
       "Name: source, dtype: int64"
      ]
     },
     "execution_count": 37,
     "metadata": {},
     "output_type": "execute_result"
    }
   ],
   "source": [
    "df['source'].value_counts()"
   ]
  },
  {
   "cell_type": "code",
   "execution_count": 46,
   "metadata": {
    "collapsed": false
   },
   "outputs": [
    {
     "data": {
      "text/plain": [
       "(array([  5.05500000e+03,   2.30000000e+01,   6.00000000e+00,\n",
       "          1.00000000e+00,   0.00000000e+00,   0.00000000e+00,\n",
       "          0.00000000e+00,   0.00000000e+00,   0.00000000e+00,\n",
       "          1.00000000e+00]),\n",
       " array([   1. ,   20.1,   39.2,   58.3,   77.4,   96.5,  115.6,  134.7,\n",
       "         153.8,  172.9,  192. ]),\n",
       " <a list of 10 Patch objects>)"
      ]
     },
     "execution_count": 46,
     "metadata": {},
     "output_type": "execute_result"
    },
    {
     "data": {
      "image/png": "[encoded data removed]",
      "text/plain": [
       "<matplotlib.figure.Figure at 0x16f461450>"
      ]
     },
     "metadata": {},
     "output_type": "display_data"
    }
   ],
   "source": [
    "plt.hist(df['source'].value_counts())"
   ]
  },
  {
   "cell_type": "code",
   "execution_count": 56,
   "metadata": {
    "collapsed": false
   },
   "outputs": [],
   "source": [
    "es = Elasticsearch()"
   ]
  },
  {
   "cell_type": "code",
   "execution_count": 64,
   "metadata": {
    "collapsed": false
   },
   "outputs": [
    {
     "name": "stdout",
     "output_type": "stream",
     "text": [
      "Scrolling...\n",
      "scroll size: 5000\n",
      "<type 'dict'>\n",
      "Scrolling...\n",
      "scroll size: 5000\n",
      "<type 'dict'>\n",
      "Scrolling...\n",
      "scroll size: 5000\n",
      "<type 'dict'>\n",
      "Scrolling...\n",
      "scroll size: 5000\n",
      "<type 'dict'>\n",
      "Scrolling...\n",
      "scroll size: 5000\n",
      "<type 'dict'>\n",
      "Scrolling...\n",
      "scroll size: 5000\n",
      "<type 'dict'>\n",
      "Scrolling...\n",
      "scroll size: 5000\n",
      "<type 'dict'>\n",
      "Scrolling...\n",
      "scroll size: 5000\n",
      "<type 'dict'>\n",
      "Scrolling...\n",
      "scroll size: 3022\n",
      "<type 'dict'>\n",
      "Scrolling...\n",
      "scroll size: 0\n",
      "<type 'dict'>\n"
     ]
    }
   ],
   "source": [
    "res_ = []\n",
    "\n",
    "res = es.search(\n",
    "    index=\"articles\",\n",
    "    scroll = '2m',\n",
    "    search_type = 'scan',\n",
    "    size = 1000,\n",
    ")\n",
    "\n",
    "sid = res['_scroll_id']\n",
    "scroll_size = res['hits']['total']\n",
    "\n",
    "# Start scrolling\n",
    "while (scroll_size > 0):\n",
    "    print \"Scrolling...\"\n",
    "    res = es.scroll(scroll_id = sid, scroll = '2m')\n",
    "    # Update the scroll ID\n",
    "    sid = res['_scroll_id']\n",
    "    # Get the number of results that we returned in the last scroll\n",
    "    scroll_size = len(res['hits']['hits'])\n",
    "    print \"scroll size: \" + str(scroll_size)\n",
    "    # Do something with the obtained page\n",
    "    print type(res)\n",
    "    res_.append(res['hits']['hits'])"
   ]
  },
  {
   "cell_type": "code",
   "execution_count": 65,
   "metadata": {
    "collapsed": false
   },
   "outputs": [
    {
     "data": {
      "text/plain": [
       "10"
      ]
     },
     "execution_count": 65,
     "metadata": {},
     "output_type": "execute_result"
    }
   ],
   "source": [
    "len(res_)"
   ]
  },
  {
   "cell_type": "code",
   "execution_count": 66,
   "metadata": {
    "collapsed": false
   },
   "outputs": [
    {
     "name": "stdout",
     "output_type": "stream",
     "text": [
      "<type 'list'>\n"
     ]
    }
   ],
   "source": [
    "print type(res_[0])"
   ]
  },
  {
   "cell_type": "code",
   "execution_count": 67,
   "metadata": {
    "collapsed": true
   },
   "outputs": [],
   "source": [
    "res_flat = []\n",
    "for r in res_:\n",
    "    res_flat.extend(r)"
   ]
  },
  {
   "cell_type": "code",
   "execution_count": 69,
   "metadata": {
    "collapsed": false
   },
   "outputs": [
    {
     "name": "stdout",
     "output_type": "stream",
     "text": [
      "43022\n"
     ]
    }
   ],
   "source": [
    "print len(res_flat)"
   ]
  },
  {
   "cell_type": "code",
   "execution_count": 70,
   "metadata": {
    "collapsed": false
   },
   "outputs": [
    {
     "name": "stdout",
     "output_type": "stream",
     "text": [
      "{u'_score': 0.0, u'_type': u'article', u'_id': u'8f78fdd9-103a-4e50-83a1-f9cdfa83f29a', u'_source': {u'feed': u'MOREOVER', u'tracking-url': u'http://ct.moreover.com/?a=22517042385&p=1h4&v=1&x=NQxuDqqPrK4OZSGyUdzwpQ', u'source-groups': [], u'topics': [], u'signal-entities': [{u'confidence': 0.39517164759930257, u'annotation-probability': 0.5454545454545454, u'degree': 19, u'signal-type': u'none', u'coherence': 0.24488874974405972, u'surface-form': u'Gamma Knife', u'offset': 23, u'position': u'title', u'wiki-title': u'Radiosurgery', u'types': None}, {u'confidence': 0.19365150470098297, u'annotation-probability': 0.23997221739885397, u'degree': 26, u'signal-type': u'none', u'coherence': 0.14733079200311197, u'surface-form': u'Asia', u'offset': 36, u'position': u'title', u'wiki-title': u'Asia', u'types': None}, {u'confidence': 0.32134750959807856, u'annotation-probability': 0.545602912138837, u'degree': 21, u'signal-type': u'location', u'coherence': 0.09709210705732005, u'surface-form': u'NEW YORK', u'offset': 0, u'position': u'summary', u'wiki-title': u'New_York', u'types': {u'dbpedia': [u'AdministrativeRegion', u'PopulatedPlace', u'Place', u'Region'], u'schema': [u'Place', u'AdministrativeArea']}}, {u'confidence': 0.1506021677144831, u'annotation-probability': 0.25, u'degree': 8, u'signal-type': u'none', u'coherence': 0.05120433542896617, u'surface-form': u'PRNewswire', u'offset': 25, u'position': u'summary', u'wiki-title': u'PR_Newswire', u'types': None}, {u'confidence': 0.41039577728471804, u'annotation-probability': 0.5362318840579711, u'degree': 26, u'signal-type': u'none', u'coherence': 0.284559670511465, u'surface-form': u'Radiation therapy', u'offset': 40, u'position': u'summary', u'wiki-title': u'Radiation_therapy', u'types': None}, {u'confidence': 0.2858994976191883, u'annotation-probability': 0.2872393247269116, u'degree': 26, u'signal-type': u'none', u'coherence': 0.284559670511465, u'surface-form': u'radiation', u'offset': 121, u'position': u'summary', u'wiki-title': u'Radiation_therapy', u'types': None}, {u'confidence': 0.22378874301469154, u'annotation-probability': 0.18030513176144244, u'degree': 22, u'signal-type': u'none', u'coherence': 0.26727235426794066, u'surface-form': u'tumors', u'offset': 134, u'position': u'summary', u'wiki-title': u'Tumor', u'types': None}, {u'confidence': 0.2856128091367829, u'annotation-probability': 0.3188405797101449, u'degree': 26, u'signal-type': u'none', u'coherence': 0.2523850385634208, u'surface-form': u'ablate', u'offset': 233, u'position': u'summary', u'wiki-title': u'Ablation', u'types': None}, {u'confidence': 0.22378874301469154, u'annotation-probability': 0.18030513176144244, u'degree': 22, u'signal-type': u'none', u'coherence': 0.26727235426794066, u'surface-form': u'tumors', u'offset': 240, u'position': u'summary', u'wiki-title': u'Tumor', u'types': None}, {u'confidence': 0.17864116616695902, u'annotation-probability': 0.15181518151815182, u'degree': 17, u'signal-type': u'none', u'coherence': 0.20546715081576625, u'surface-form': u'noninvasive', u'offset': 276, u'position': u'summary', u'wiki-title': u'Invasiveness_of_surgical_procedures', u'types': None}, {u'confidence': 0.2858994976191883, u'annotation-probability': 0.2872393247269116, u'degree': 26, u'signal-type': u'none', u'coherence': 0.284559670511465, u'surface-form': u'radiation', u'offset': 317, u'position': u'summary', u'wiki-title': u'Radiation_therapy', u'types': None}, {u'confidence': 0.39517164759930257, u'annotation-probability': 0.5454545454545454, u'degree': 19, u'signal-type': u'none', u'coherence': 0.24488874974405972, u'surface-form': u'Gamma Knife', u'offset': 391, u'position': u'content', u'wiki-title': u'Radiosurgery', u'types': None}, {u'confidence': 0.42967329053468045, u'annotation-probability': 0.6144578313253012, u'degree': 19, u'signal-type': u'none', u'coherence': 0.24488874974405972, u'surface-form': u'radiosurgery', u'offset': 403, u'position': u'content', u'wiki-title': u'Radiosurgery', u'types': None}, {u'confidence': 0.43636750090303117, u'annotation-probability': 0.5881753312945973, u'degree': 26, u'signal-type': u'none', u'coherence': 0.284559670511465, u'surface-form': u'radiation therapy', u'offset': 435, u'position': u'content', u'wiki-title': u'Radiation_therapy', u'types': None}, {u'confidence': 0.2977156394331001, u'annotation-probability': 0.3363431151241535, u'degree': 26, u'signal-type': u'none', u'coherence': 0.2590881637420467, u'surface-form': u'brain tumors', u'offset': 481, u'position': u'content', u'wiki-title': u'Brain_tumor', u'types': {u'dbpedia': [u'Disease']}}, {u'confidence': 0.4312699409634029, u'annotation-probability': 0.625, u'degree': 17, u'signal-type': u'none', u'coherence': 0.2375398819268057, u'surface-form': u'arteriovenous malformations', u'offset': 495, u'position': u'content', u'wiki-title': u'Arteriovenous_malformation', u'types': {u'dbpedia': [u'Disease']}}, {u'confidence': 0.5374551707060597, u'annotation-probability': 0.8363636363636363, u'degree': 19, u'signal-type': u'none', u'coherence': 0.23854670504848313, u'surface-form': u'trigeminal neuralgia', u'offset': 524, u'position': u'content', u'wiki-title': u'Trigeminal_neuralgia', u'types': {u'dbpedia': [u'Disease']}}, {u'confidence': 0.38420798702983844, u'annotation-probability': 0.5757575757575758, u'degree': 14, u'signal-type': u'none', u'coherence': 0.1926583983021011, u'surface-form': u'acoustic neuroma', u'offset': 546, u'position': u'content', u'wiki-title': u'Vestibular_schwannoma', u'types': {u'dbpedia': [u'Disease']}}, {u'confidence': 0.19613336845518214, u'annotation-probability': 0.16666666666666666, u'degree': 17, u'signal-type': u'none', u'coherence': 0.22560007024369763, u'surface-form': u'pituitary tumors', u'offset': 568, u'position': u'content', u'wiki-title': u'Pituitary_adenoma', u'types': {u'dbpedia': [u'Disease']}}, {u'confidence': 0.39517164759930257, u'annotation-probability': 0.5454545454545454, u'degree': 19, u'signal-type': u'none', u'coherence': 0.24488874974405972, u'surface-form': u'Gamma Knife', u'offset': 589, u'position': u'content', u'wiki-title': u'Radiosurgery', u'types': None}, {u'confidence': 0.17304473437584872, u'annotation-probability': 0.1029555845852384, u'degree': 25, u'signal-type': u'none', u'coherence': 0.24313388416645904, u'surface-form': u'surgery', u'offset': 601, u'position': u'content', u'wiki-title': u'Surgery', u'types': None}, {u'confidence': 0.2858994976191883, u'annotation-probability': 0.2872393247269116, u'degree': 26, u'signal-type': u'none', u'coherence': 0.284559670511465, u'surface-form': u'radiation', u'offset': 667, u'position': u'content', u'wiki-title': u'Radiation_therapy', u'types': None}, {u'confidence': 0.26610356097466614, u'annotation-probability': 0.2649347676813916, u'degree': 22, u'signal-type': u'none', u'coherence': 0.26727235426794066, u'surface-form': u'tumor', u'offset': 682, u'position': u'content', u'wiki-title': u'Tumor', u'types': None}, {u'confidence': 0.21272986903391083, u'annotation-probability': 0.20994329421073454, u'degree': 23, u'signal-type': u'none', u'coherence': 0.2155164438570871, u'surface-form': u'cells', u'offset': 706, u'position': u'content', u'wiki-title': u'Cell_(biology)', u'types': None}, {u'confidence': 0.24349448167185422, u'annotation-probability': 0.23361429877119935, u'degree': 26, u'signal-type': u'none', u'coherence': 0.2533746645725091, u'surface-form': u'brain', u'offset': 749, u'position': u'content', u'wiki-title': u'Brain', u'types': None}, {u'confidence': 0.2858994976191883, u'annotation-probability': 0.2872393247269116, u'degree': 26, u'signal-type': u'none', u'coherence': 0.284559670511465, u'surface-form': u'radiation', u'offset': 794, u'position': u'content', u'wiki-title': u'Radiation_therapy', u'types': None}, {u'confidence': 0.26610356097466614, u'annotation-probability': 0.2649347676813916, u'degree': 22, u'signal-type': u'none', u'coherence': 0.26727235426794066, u'surface-form': u'tumor', u'offset': 820, u'position': u'content', u'wiki-title': u'Tumor', u'types': None}, {u'confidence': 0.21272986903391083, u'annotation-probability': 0.20994329421073454, u'degree': 23, u'signal-type': u'none', u'coherence': 0.2155164438570871, u'surface-form': u'cells', u'offset': 826, u'position': u'content', u'wiki-title': u'Cell_(biology)', u'types': None}, {u'confidence': 0.31456837143795435, u'annotation-probability': 0.36574951528222555, u'degree': 33, u'signal-type': u'none', u'coherence': 0.26338722759368316, u'surface-form': u'cancer', u'offset': 874, u'position': u'content', u'wiki-title': u'Cancer', u'types': {u'dbpedia': [u'Disease']}}, {u'confidence': 0.39517164759930257, u'annotation-probability': 0.5454545454545454, u'degree': 19, u'signal-type': u'none', u'coherence': 0.24488874974405972, u'surface-form': u'Gamma Knife', u'offset': 1009, u'position': u'content', u'wiki-title': u'Radiosurgery', u'types': None}, {u'confidence': 0.39517164759930257, u'annotation-probability': 0.5454545454545454, u'degree': 19, u'signal-type': u'none', u'coherence': 0.24488874974405972, u'surface-form': u'Gamma Knife', u'offset': 1061, u'position': u'content', u'wiki-title': u'Radiosurgery', u'types': None}, {u'confidence': 0.39517164759930257, u'annotation-probability': 0.5454545454545454, u'degree': 19, u'signal-type': u'none', u'coherence': 0.24488874974405972, u'surface-form': u'Gamma Knife', u'offset': 1166, u'position': u'content', u'wiki-title': u'Radiosurgery', u'types': None}, {u'confidence': 0.39517164759930257, u'annotation-probability': 0.5454545454545454, u'degree': 19, u'signal-type': u'none', u'coherence': 0.24488874974405972, u'surface-form': u'Gamma Knife', u'offset': 1297, u'position': u'content', u'wiki-title': u'Radiosurgery', u'types': None}, {u'confidence': 0.20759931876166626, u'annotation-probability': 0.2764336002579674, u'degree': 24, u'signal-type': u'location', u'coherence': 0.1387650372653651, u'surface-form': u'North America', u'offset': 1342, u'position': u'content', u'wiki-title': u'North_America', u'types': {u'dbpedia': [u'PopulatedPlace', u'Place', u'Continent'], u'schema': [u'Place', u'Continent']}}, {u'confidence': 0.39517164759930257, u'annotation-probability': 0.5454545454545454, u'degree': 19, u'signal-type': u'none', u'coherence': 0.24488874974405972, u'surface-form': u'Gamma Knife', u'offset': 1377, u'position': u'content', u'wiki-title': u'Radiosurgery', u'types': None}, {u'confidence': 0.31456837143795435, u'annotation-probability': 0.36574951528222555, u'degree': 33, u'signal-type': u'none', u'coherence': 0.26338722759368316, u'surface-form': u'cancer', u'offset': 1428, u'position': u'content', u'wiki-title': u'Cancer', u'types': {u'dbpedia': [u'Disease']}}, {u'confidence': 0.42967329053468045, u'annotation-probability': 0.6144578313253012, u'degree': 19, u'signal-type': u'none', u'coherence': 0.24488874974405972, u'surface-form': u'radiosurgery', u'offset': 1472, u'position': u'content', u'wiki-title': u'Radiosurgery', u'types': None}, {u'confidence': 0.39517164759930257, u'annotation-probability': 0.5454545454545454, u'degree': 19, u'signal-type': u'none', u'coherence': 0.24488874974405972, u'surface-form': u'Gamma Knife', u'offset': 1557, u'position': u'content', u'wiki-title': u'Radiosurgery', u'types': None}, {u'confidence': 0.31456837143795435, u'annotation-probability': 0.36574951528222555, u'degree': 33, u'signal-type': u'none', u'coherence': 0.26338722759368316, u'surface-form': u'cancer', u'offset': 1584, u'position': u'content', u'wiki-title': u'Cancer', u'types': {u'dbpedia': [u'Disease']}}, {u'confidence': 0.39517164759930257, u'annotation-probability': 0.5454545454545454, u'degree': 19, u'signal-type': u'none', u'coherence': 0.24488874974405972, u'surface-form': u'Gamma Knife', u'offset': 1636, u'position': u'content', u'wiki-title': u'Radiosurgery', u'types': None}, {u'confidence': 0.39517164759930257, u'annotation-probability': 0.5454545454545454, u'degree': 19, u'signal-type': u'none', u'coherence': 0.24488874974405972, u'surface-form': u'Gamma Knife', u'offset': 1713, u'position': u'content', u'wiki-title': u'Radiosurgery', u'types': None}, {u'confidence': 0.3348184604118558, u'annotation-probability': 0.556767553733329, u'degree': 19, u'signal-type': u'location', u'coherence': 0.11286936709038262, u'surface-form': u'Canada', u'offset': 1738, u'position': u'content', u'wiki-title': u'Canada', u'types': {u'dbpedia': [u'Country', u'PopulatedPlace', u'Place'], u'schema': [u'Country', u'Place']}}, {u'confidence': 0.20759931876166626, u'annotation-probability': 0.2764336002579674, u'degree': 24, u'signal-type': u'location', u'coherence': 0.1387650372653651, u'surface-form': u'North America', u'offset': 1749, u'position': u'content', u'wiki-title': u'North_America', u'types': {u'dbpedia': [u'PopulatedPlace', u'Place', u'Continent'], u'schema': [u'Place', u'Continent']}}, {u'confidence': 0.17978383974509932, u'annotation-probability': 0.21724768758684151, u'degree': 26, u'signal-type': u'none', u'coherence': 0.14231999190335715, u'surface-form': u'Europe', u'offset': 1767, u'position': u'content', u'wiki-title': u'European_Union', u'types': None}, {u'confidence': 0.2887800524918045, u'annotation-probability': 0.47481353785533353, u'degree': 16, u'signal-type': u'location', u'coherence': 0.10274656712827551, u'surface-form': u'Germany', u'offset': 1775, u'position': u'content', u'wiki-title': u'Germany', u'types': {u'dbpedia': [u'Country', u'PopulatedPlace', u'Place'], u'schema': [u'Country', u'Place']}}, {u'confidence': 0.3017073289928033, u'annotation-probability': 0.515756151832878, u'degree': 14, u'signal-type': u'location', u'coherence': 0.08765850615272858, u'surface-form': u'France', u'offset': 1784, u'position': u'content', u'wiki-title': u'France', u'types': {u'dbpedia': [u'Country', u'PopulatedPlace', u'Place'], u'schema': [u'Country', u'Place']}}, {u'confidence': 0.2975814822626697, u'annotation-probability': 0.4955857224226315, u'degree': 15, u'signal-type': u'location', u'coherence': 0.09957724210270795, u'surface-form': u'Italy', u'offset': 1802, u'position': u'content', u'wiki-title': u'Italy', u'types': {u'dbpedia': [u'Country', u'PopulatedPlace', u'Place'], u'schema': [u'Country', u'Place']}}, {u'confidence': 0.3187572965077495, u'annotation-probability': 0.5275783116303138, u'degree': 15, u'signal-type': u'location', u'coherence': 0.10993628138518516, u'surface-form': u'Spain', u'offset': 1813, u'position': u'content', u'wiki-title': u'Spain', u'types': {u'dbpedia': [u'Country', u'PopulatedPlace', u'Place'], u'schema': [u'Country', u'Place']}}, {u'confidence': 0.39517164759930257, u'annotation-probability': 0.5454545454545454, u'degree': 19, u'signal-type': u'none', u'coherence': 0.24488874974405972, u'surface-form': u'Gamma Knife', u'offset': 1844, u'position': u'content', u'wiki-title': u'Radiosurgery', u'types': None}, {u'confidence': 0.19365150470098297, u'annotation-probability': 0.23997221739885397, u'degree': 26, u'signal-type': u'none', u'coherence': 0.14733079200311197, u'surface-form': u'Asia', u'offset': 1873, u'position': u'content', u'wiki-title': u'Asia', u'types': None}, {u'confidence': 0.39517164759930257, u'annotation-probability': 0.5454545454545454, u'degree': 19, u'signal-type': u'none', u'coherence': 0.24488874974405972, u'surface-form': u'Gamma Knife', u'offset': 1923, u'position': u'content', u'wiki-title': u'Radiosurgery', u'types': None}, {u'confidence': 0.31456837143795435, u'annotation-probability': 0.36574951528222555, u'degree': 33, u'signal-type': u'none', u'coherence': 0.26338722759368316, u'surface-form': u'cancer', u'offset': 1983, u'position': u'content', u'wiki-title': u'Cancer', u'types': {u'dbpedia': [u'Disease']}}, {u'confidence': 0.2582418448963716, u'annotation-probability': 0.36279366324979156, u'degree': 24, u'signal-type': u'location', u'coherence': 0.15369002654295166, u'surface-form': u'Latin America', u'offset': 2023, u'position': u'content', u'wiki-title': u'Latin_America', u'types': {u'dbpedia': [u'PopulatedPlace', u'Place', u'Continent'], u'schema': [u'Place', u'Continent']}}, {u'confidence': 0.30172547950591433, u'annotation-probability': 0.38980891719745225, u'degree': 20, u'signal-type': u'none', u'coherence': 0.21364204181437638, u'surface-form': u'incidence', u'offset': 2045, u'position': u'content', u'wiki-title': u'Incidence_(epidemiology)', u'types': None}, {u'confidence': 0.31456837143795435, u'annotation-probability': 0.36574951528222555, u'degree': 33, u'signal-type': u'none', u'coherence': 0.26338722759368316, u'surface-form': u'cancer', u'offset': 2058, u'position': u'content', u'wiki-title': u'Cancer', u'types': {u'dbpedia': [u'Disease']}}, {u'confidence': 0.39517164759930257, u'annotation-probability': 0.5454545454545454, u'degree': 19, u'signal-type': u'none', u'coherence': 0.24488874974405972, u'surface-form': u'Gamma Knife', u'offset': 2156, u'position': u'content', u'wiki-title': u'Radiosurgery', u'types': None}, {u'confidence': 0.39517164759930257, u'annotation-probability': 0.5454545454545454, u'degree': 19, u'signal-type': u'none', u'coherence': 0.24488874974405972, u'surface-form': u'Gamma Knife', u'offset': 2253, u'position': u'content', u'wiki-title': u'Radiosurgery', u'types': None}, {u'confidence': 0.20707027906371556, u'annotation-probability': 0.3350735643094447, u'degree': 11, u'signal-type': u'none', u'coherence': 0.07906699381798646, u'surface-form': u'dynamics', u'offset': 2399, u'position': u'content', u'wiki-title': u'Psychodynamics', u'types': None}, {u'confidence': 0.39517164759930257, u'annotation-probability': 0.5454545454545454, u'degree': 19, u'signal-type': u'none', u'coherence': 0.24488874974405972, u'surface-form': u'Gamma Knife', u'offset': 2517, u'position': u'content', u'wiki-title': u'Radiosurgery', u'types': None}, {u'confidence': 0.39517164759930257, u'annotation-probability': 0.5454545454545454, u'degree': 19, u'signal-type': u'none', u'coherence': 0.24488874974405972, u'surface-form': u'Gamma Knife', u'offset': 2624, u'position': u'content', u'wiki-title': u'Radiosurgery', u'types': None}, {u'confidence': 0.24349448167185422, u'annotation-probability': 0.23361429877119935, u'degree': 26, u'signal-type': u'none', u'coherence': 0.2533746645725091, u'surface-form': u'brain', u'offset': 2671, u'position': u'content', u'wiki-title': u'Brain', u'types': None}, {u'confidence': 0.35452775369526934, u'annotation-probability': 0.43724696356275305, u'degree': 22, u'signal-type': u'none', u'coherence': 0.27180854382778563, u'surface-form': u'metastases', u'offset': 2684, u'position': u'content', u'wiki-title': u'Metastasis', u'types': {u'dbpedia': [u'Disease']}}, {u'confidence': 0.335508020844671, u'annotation-probability': 0.4119278779472954, u'degree': 26, u'signal-type': u'none', u'coherence': 0.2590881637420467, u'surface-form': u'brain tumor', u'offset': 2696, u'position': u'content', u'wiki-title': u'Brain_tumor', u'types': {u'dbpedia': [u'Disease']}}, {u'confidence': 0.5374551707060597, u'annotation-probability': 0.8363636363636363, u'degree': 19, u'signal-type': u'none', u'coherence': 0.23854670504848313, u'surface-form': u'trigeminal neuralgia', u'offset': 2709, u'position': u'content', u'wiki-title': u'Trigeminal_neuralgia', u'types': {u'dbpedia': [u'Disease']}}, {u'confidence': 0.4312699409634029, u'annotation-probability': 0.625, u'degree': 17, u'signal-type': u'none', u'coherence': 0.2375398819268057, u'surface-form': u'arteriovenous malformations', u'offset': 2731, u'position': u'content', u'wiki-title': u'Arteriovenous_malformation', u'types': {u'dbpedia': [u'Disease']}}, {u'confidence': 0.39517164759930257, u'annotation-probability': 0.5454545454545454, u'degree': 19, u'signal-type': u'none', u'coherence': 0.24488874974405972, u'surface-form': u'Gamma Knife', u'offset': 2803, u'position': u'content', u'wiki-title': u'Radiosurgery', u'types': None}, {u'confidence': 0.20759931876166626, u'annotation-probability': 0.2764336002579674, u'degree': 24, u'signal-type': u'location', u'coherence': 0.1387650372653651, u'surface-form': u'North America', u'offset': 2876, u'position': u'content', u'wiki-title': u'North_America', u'types': {u'dbpedia': [u'PopulatedPlace', u'Place', u'Continent'], u'schema': [u'Place', u'Continent']}}, {u'confidence': 0.17978383974509932, u'annotation-probability': 0.21724768758684151, u'degree': 26, u'signal-type': u'none', u'coherence': 0.14231999190335715, u'surface-form': u'Europe', u'offset': 2891, u'position': u'content', u'wiki-title': u'European_Union', u'types': None}, {u'confidence': 0.19365150470098297, u'annotation-probability': 0.23997221739885397, u'degree': 26, u'signal-type': u'none', u'coherence': 0.14733079200311197, u'surface-form': u'Asia', u'offset': 2899, u'position': u'content', u'wiki-title': u'Asia', u'types': None}, {u'confidence': 0.2582418448963716, u'annotation-probability': 0.36279366324979156, u'degree': 24, u'signal-type': u'location', u'coherence': 0.15369002654295166, u'surface-form': u'Latin America', u'offset': 2905, u'position': u'content', u'wiki-title': u'Latin_America', u'types': {u'dbpedia': [u'PopulatedPlace', u'Place', u'Continent'], u'schema': [u'Place', u'Continent']}}, {u'confidence': 0.39517164759930257, u'annotation-probability': 0.5454545454545454, u'degree': 19, u'signal-type': u'none', u'coherence': 0.24488874974405972, u'surface-form': u'Gamma Knife', u'offset': 2984, u'position': u'content', u'wiki-title': u'Radiosurgery', u'types': None}, {u'confidence': 0.21347093038057413, u'annotation-probability': 0.25, u'degree': 14, u'signal-type': u'organisation', u'coherence': 0.1769418607611483, u'surface-form': u'Elekta', u'offset': 3007, u'position': u'content', u'wiki-title': u'Elekta', u'types': {u'dbpedia': [u'Organisation', u'Agent', u'Company'], u'schema': [u'Organization']}}, {u'confidence': 0.3778072829535677, u'annotation-probability': 0.6086956521739131, u'degree': 12, u'signal-type': u'organisation', u'coherence': 0.1469189137332223, u'surface-form': u'Varian Medical Systems', u'offset': 3018, u'position': u'content', u'wiki-title': u'Varian_Medical_Systems', u'types': {u'dbpedia': [u'Organisation', u'Agent', u'Company'], u'schema': [u'Organization']}}, {u'confidence': 0.16833003225451587, u'annotation-probability': 0.2647058823529412, u'degree': 11, u'signal-type': u'organisation', u'coherence': 0.07195418215609055, u'surface-form': u'Nordion', u'offset': 3133, u'position': u'content', u'wiki-title': u'Nordion', u'types': {u'dbpedia': [u'Organisation', u'Agent', u'Company'], u'schema': [u'Organization']}}, {u'confidence': 0.18064173625462374, u'annotation-probability': 0.26675620516822235, u'degree': 18, u'signal-type': u'location', u'coherence': 0.09452726734102514, u'surface-form': u'American', u'offset': 3177, u'position': u'content', u'wiki-title': u'United_States', u'types': {u'dbpedia': [u'Country', u'PopulatedPlace', u'Place'], u'schema': [u'Country', u'Place']}}, {u'confidence': 0.5473411926676972, u'annotation-probability': 1, u'degree': 16, u'signal-type': u'none', u'coherence': 0.09468238533539453, u'surface-form': u'sustainability', u'offset': 3349, u'position': u'content', u'wiki-title': u'Sustainability', u'types': None}, {u'confidence': 0.1875715169748839, u'annotation-probability': 0.35698978948695326, u'degree': 4, u'signal-type': u'location', u'coherence': 0.018153244462814522, u'surface-form': u'Clare', u'offset': 3726, u'position': u'content', u'wiki-title': u'County_Clare', u'types': {u'dbpedia': [u'PopulatedPlace', u'Place', u'Settlement'], u'schema': [u'Place']}}, {u'confidence': 0.1875715169748839, u'annotation-probability': 0.35698978948695326, u'degree': 4, u'signal-type': u'location', u'coherence': 0.018153244462814522, u'surface-form': u'clare', u'offset': 3733, u'position': u'content', u'wiki-title': u'County_Clare', u'types': {u'dbpedia': [u'PopulatedPlace', u'Place', u'Settlement'], u'schema': [u'Place']}}, {u'confidence': 0.29081955901883094, u'annotation-probability': 0.5304347826086957, u'degree': 8, u'signal-type': u'none', u'coherence': 0.05120433542896617, u'surface-form': u'PR Newswire', u'offset': 3835, u'position': u'content', u'wiki-title': u'PR_Newswire', u'types': None}, {u'confidence': 0.23730241896780918, u'annotation-probability': 0.375, u'degree': 18, u'signal-type': u'none', u'coherence': 0.09960483793561836, u'surface-form': u'Sep. 1', u'offset': 4017, u'position': u'content', u'wiki-title': u'September_1', u'types': None}, {u'confidence': 0.265579888076145, u'annotation-probability': 0.4460431654676259, u'degree': 16, u'signal-type': u'none', u'coherence': 0.08511661068466411, u'surface-form': u'Syndicated', u'offset': 4094, u'position': u'content', u'wiki-title': u'Broadcast_syndication', u'types': None}], u'moreover': {u'editorial-rank': u'2', u'id': u'22517042385', u'filename': u'moreover/feed/2015/9/1/22/499679108116-499679180159.xml'}, u'summary': u'NEW YORK, Sept. 1, 2015 /PRNewswire/ -- Radiation therapy is a procedure entailing the precise delivery of high doses of radiation to tumors and other relevant anatomical targets. It involves the usage of sophisticated technology to ablate tumors and other abnormalities with noninvasive procedures and high doses of radiation while minimizing the exposure to surrounding healthy tissues.', u'title': u'Global Market Study on Gamma Knife: Asia to Witness Highest Growth by 2020', u'content': u'NEW YORK, Sept. 1, 2015 /PRNewswire/ -- Radiation therapy is a procedure entailing the precise delivery of high doses of radiation to tumors and other relevant anatomical targets. It involves the usage of sophisticated technology to ablate tumors and other abnormalities with noninvasive procedures and high doses of radiation while minimizing the exposure to surrounding healthy tissues. \\n\\nGamma Knife radiosurgery is a major form of radiation therapy. It is mainly used to treat brain tumors, arteriovenous malformations, trigeminal neuralgia, acoustic neuroma, and pituitary tumors. In Gamma Knife surgery, specialized equipment focuses close to 200 tiny beams of radiation on a tumor or other targeted cells. Each beam has minimal effect on the brain tissue and it delivers strong doses of radiation to the targeted tumor cells for treatment. \\n\\nIncreasing prevalence of cancer, growing aging population, rising number of initiatives undertaken by various government associations, and advanced features of Gamma Knife systems are major drivers of the global Gamma Knife market. On the other hand, stringent regulatory requirements and prolonged approval time for Gamma Knife systems as well as high cost of implementation and shortage of skilled manpower are some major concerns for the global Gamma Knife market. \\n\\nIn terms of geography, North America dominates the global Gamma Knife market due to increasing prevalence of cancer as well as increasing investments by radiosurgery systems manufacturing companies. In addition, increased awareness about Gamma Knife technology for cancer treatment is also boosting the growth of the Gamma Knife market in the region. The U.S. represents the largest market for Gamma Knife, followed by Canada, in North America. In Europe, Germany, France, the U.K., Italy, and Spain hold major shares of the Gamma Knife market. However, Asia represents the fastest growing region in the Gamma Knife market. This is due to increasing prevalence of cancer and growing aging population. In Latin America, rising incidence of cancer and construction of manufacturing and research facilities by many companies is driving the Gamma Knife market in the region. \\n\\nThis report provides in-depth analysis and estimation of the Gamma Knife market for the period 2014 to 2020, considering 2013 as the base year for calculation. In addition, data pertaining to current market dynamics, including market drivers, restraints, trends, and recent developments, has been provided in the report. The Gamma Knife market is categorized on the basis of application and geography. Based on the application, the Gamma Knife market is further categorized into brain market metastases, brain tumor, trigeminal neuralgia, arteriovenous malformations, and others. On the basis of geography, the Gamma Knife market report identify analyzes the size and predictions for North America, Europe, Asia, Latin America, and Rest of the World (RoW). \\n\\nSome of the major players in the Gamma Knife market are Elekta AB, Varian Medical Systems, Inc., Huiheng Medical, Inc., Cyber Medical Corporation Limited, Masep Infini Global, Inc., Nordion, Inc., Hokai, ET Medical Group, and American Shared Hospital Services. These key market players have been profiled on the basis of attributes such as company overview, recent developments, growth strategies, sustainability, and financial overview. \\n\\nRead the full report: http://www.reportlinker.com/p03175805-summary/view-report.html \\n\\nAbout Reportlinker \\n\\nReportLinker is an award-winning market research solution that finds, filters and organizes the latest industry data so you get all the market research you need - instantly, in one place. \\n\\n__________________________ \\n\\nContact Clare: clare@reportlinker.com \\n\\nUS: (339)-368-6001 \\n\\nIntl: +1 339-368-6001 \\n\\nTo view the original version on PR Newswire, visit:http://www.prnewswire.com/news-releases/global-market-study-on-gamma-knife-asia-to-witness-highest-growth-by-2020-300136461.html \\n\\nSOURCE Reportlinker \\n\\nPublished Sep. 1, 2015 \\n\\nCopyright \\xa9 2015 SYS-CON Media, Inc. \\u2014 All Rights Reserved. \\n\\nSyndicated stories and blog feeds, all rights reserved by the author.', u'source': u'Sys-Con Italia', u'signal-importance': 8, u'canonical-source': u'caaf6463-bb6b-422a-848f-fa2c8c74ee5d', u'detected-language': u'en', u'stanford-entities': [{u'start-offset': 36, u'surface-form': u'Asia', u'end-offset': 40, u'text': u'Asia', u'position': u'title', u'type': u'location'}, {u'start-offset': 0, u'surface-form': u'NEW YORK', u'end-offset': 8, u'text': u'NEW YORK', u'position': u'summary', u'type': u'location'}, {u'start-offset': 1342, u'surface-form': u'North America', u'end-offset': 1355, u'text': u'North America', u'position': u'content', u'type': u'location'}, {u'start-offset': 1557, u'surface-form': u'Gamma Knife', u'end-offset': 1568, u'text': u'Gamma Knife', u'position': u'content', u'type': u'organization'}, {u'start-offset': 1674, u'surface-form': u'U.S.', u'end-offset': 1678, u'text': u'U.S.', u'position': u'content', u'type': u'location'}, {u'start-offset': 1713, u'surface-form': u'Gamma Knife', u'end-offset': 1724, u'text': u'Gamma Knife', u'position': u'content', u'type': u'organization'}, {u'start-offset': 1738, u'surface-form': u'Canada', u'end-offset': 1744, u'text': u'Canada', u'position': u'content', u'type': u'location'}, {u'start-offset': 1749, u'surface-form': u'North America', u'end-offset': 1762, u'text': u'North America', u'position': u'content', u'type': u'location'}, {u'start-offset': 1767, u'surface-form': u'Europe', u'end-offset': 1773, u'text': u'Europe', u'position': u'content', u'type': u'location'}, {u'start-offset': 1775, u'surface-form': u'Germany', u'end-offset': 1782, u'text': u'Germany', u'position': u'content', u'type': u'location'}, {u'start-offset': 1784, u'surface-form': u'France', u'end-offset': 1790, u'text': u'France', u'position': u'content', u'type': u'location'}, {u'start-offset': 1796, u'surface-form': u'U.K.', u'end-offset': 1800, u'text': u'U.K.', u'position': u'content', u'type': u'location'}, {u'start-offset': 1802, u'surface-form': u'Italy', u'end-offset': 1807, u'text': u'Italy', u'position': u'content', u'type': u'location'}, {u'start-offset': 1813, u'surface-form': u'Spain', u'end-offset': 1818, u'text': u'Spain', u'position': u'content', u'type': u'location'}, {u'start-offset': 1873, u'surface-form': u'Asia', u'end-offset': 1877, u'text': u'Asia', u'position': u'content', u'type': u'location'}, {u'start-offset': 2023, u'surface-form': u'Latin America', u'end-offset': 2036, u'text': u'Latin America', u'position': u'content', u'type': u'location'}, {u'start-offset': 2876, u'surface-form': u'North America', u'end-offset': 2889, u'text': u'North America', u'position': u'content', u'type': u'location'}, {u'start-offset': 2891, u'surface-form': u'Europe', u'end-offset': 2897, u'text': u'Europe', u'position': u'content', u'type': u'location'}, {u'start-offset': 2899, u'surface-form': u'Asia', u'end-offset': 2903, u'text': u'Asia', u'position': u'content', u'type': u'location'}, {u'start-offset': 2905, u'surface-form': u'Latin America', u'end-offset': 2918, u'text': u'Latin America', u'position': u'content', u'type': u'location'}, {u'start-offset': 3007, u'surface-form': u'Elekta AB', u'end-offset': 3016, u'text': u'Elekta AB', u'position': u'content', u'type': u'organization'}, {u'start-offset': 3018, u'surface-form': u'Varian Medical Systems, Inc.', u'end-offset': 3046, u'text': u'Varian Medical Systems, Inc.', u'position': u'content', u'type': u'organization'}, {u'start-offset': 3048, u'surface-form': u'Huiheng Medical, Inc.', u'end-offset': 3069, u'text': u'Huiheng Medical, Inc.', u'position': u'content', u'type': u'organization'}, {u'start-offset': 3071, u'surface-form': u'Cyber Medical Corporation Limited', u'end-offset': 3104, u'text': u'Cyber Medical Corporation Limited', u'position': u'content', u'type': u'organization'}, {u'start-offset': 3106, u'surface-form': u'Masep Infini Global, Inc.', u'end-offset': 3131, u'text': u'Masep Infini Global, Inc.', u'position': u'content', u'type': u'organization'}, {u'start-offset': 3133, u'surface-form': u'Nordion, Inc.', u'end-offset': 3146, u'text': u'Nordion, Inc.', u'position': u'content', u'type': u'organization'}, {u'start-offset': 3148, u'surface-form': u'Hokai', u'end-offset': 3153, u'text': u'Hokai', u'position': u'content', u'type': u'location'}, {u'start-offset': 3155, u'surface-form': u'ET Medical Group', u'end-offset': 3171, u'text': u'ET Medical Group', u'position': u'content', u'type': u'organization'}, {u'start-offset': 3177, u'surface-form': u'American Shared Hospital Services', u'end-offset': 3210, u'text': u'American Shared Hospital Services', u'position': u'content', u'type': u'organization'}, {u'start-offset': 3758, u'surface-form': u'US', u'end-offset': 3760, u'text': u'US', u'position': u'content', u'type': u'location'}, {u'start-offset': 4049, u'surface-form': u'SYS-CON Media, Inc.', u'end-offset': 4068, u'text': u'SYS-CON Media, Inc.', u'position': u'content', u'type': u'organization'}], u'media-type': u'News', u'model-scores': [{u'score': 0.17322358300077742, u'uuid': u'government'}, {u'score': 0.02533491226008347, u'uuid': u'war'}, {u'score': 0.04102135054018716, u'uuid': u'job-adverts'}, {u'score': 0.02105122044883416, u'uuid': u'mergers-acquisitions-20150428'}, {u'score': 0.1, u'uuid': u'tax-policy'}, {u'score': 0.2714510009120077, u'uuid': u'inequality'}, {u'score': -0.5721080717444751, u'uuid': u'civil-unrest'}, {u'score': -1.040927641071531, u'uuid': u'pandemics'}, {u'score': -0.26989073928682783, u'uuid': u'economic-growth'}, {u'score': 0.35, u'uuid': u'money-laundering'}, {u'score': 0.009330763934177824, u'uuid': u'budget-balance'}, {u'score': 0.48722072947196354, u'uuid': u'corporate-responsibility'}, {u'score': 0.02059676600444281, u'uuid': u'eu-politics'}, {u'score': 0.2915788684970485, u'uuid': u'mergers-acquisitions'}, {u'score': 9.030124586296864e-06, u'uuid': u'natural-disasters'}, {u'score': 0.018545619885586027, u'uuid': u'executive-moves'}, {u'score': 0.3, u'uuid': u'fund-round-closing'}, {u'score': 0.20817797939020732, u'uuid': u'inflation'}, {u'score': -0.07747556668314298, u'uuid': u'welfare-policy'}, {u'score': -0.36375154838605483, u'uuid': u'austerity'}, {u'score': 0.016568200060991804, u'uuid': u'product-launches'}, {u'score': 0.03318886565214764, u'uuid': u'minimum-wage'}, {u'score': -1.294533306758527, u'uuid': u'corruption'}, {u'score': 0.07777759869091036, u'uuid': u'job-creation'}, {u'score': 0.11183492475984114, u'uuid': u'environment'}, {u'score': 0.4, u'uuid': u'strikes'}, {u'score': 0.06684133338143608, u'uuid': u'ipo'}, {u'score': 0.35, u'uuid': u'foreign-exchange'}, {u'score': 0.15, u'uuid': u'immigration'}, {u'score': -0.28109301696585814, u'uuid': u'nutrition'}, {u'score': 0.65, u'uuid': u'savings-pensions'}, {u'score': 0.040084650391639, u'uuid': u'regulation'}, {u'score': 0.2538433471889926, u'uuid': u'innovation'}, {u'score': 0.04066058246395654, u'uuid': u'trade-unions'}, {u'score': 0.1968804394683827, u'uuid': u'competition-policy'}, {u'score': 0.17333333333333334, u'uuid': u'journalistic-quality-premium'}, {u'score': -1.0075834964765522, u'uuid': u'tax'}, {u'score': 0.12549247857964133, u'uuid': u'big-data'}, {u'score': 0.009795370039549478, u'uuid': u'energy'}, {u'score': 0.05609081032231204, u'uuid': u'obesity'}, {u'score': 0.35, u'uuid': u'subsidy'}, {u'score': 0.6233333333333333, u'uuid': u'journalistic-quality-spam'}, {u'score': 0.25, u'uuid': u'climate-change'}, {u'score': 0.056212597122924354, u'uuid': u'machine-learning'}], u'story-uuid': u'87c94bca-7864-44ac-be1b-e546a21acd9c', u'language-confidences': {u'en': u'0.999997906887078'}, u'language': u'English', u'url': u'http://article.signal.uk.com/8f78fdd9-103a-4e50-83a1-f9cdfa83f29a', u'canonical-source-name': u'Sys-Con Italia', u'spotlight-entities': [{u'confidence': 0.39517164759930257, u'annotation-probability': 0.5454545454545454, u'degree': 19, u'coherence': 0.24488874974405972, u'surface-form': u'Gamma Knife', u'offset': 23, u'position': u'title', u'wiki-title': u'Radiosurgery', u'types': None}, {u'confidence': 0.19365150470098297, u'annotation-probability': 0.23997221739885397, u'degree': 26, u'coherence': 0.14733079200311197, u'surface-form': u'Asia', u'offset': 36, u'position': u'title', u'wiki-title': u'Asia', u'types': None}, {u'confidence': 0.32134750959807856, u'annotation-probability': 0.545602912138837, u'degree': 21, u'coherence': 0.09709210705732005, u'surface-form': u'NEW YORK', u'offset': 0, u'position': u'summary', u'wiki-title': u'New_York', u'types': {u'dbpedia': [u'AdministrativeRegion', u'PopulatedPlace', u'Place', u'Region'], u'schema': [u'Place', u'AdministrativeArea']}}, {u'confidence': 0.1506021677144831, u'annotation-probability': 0.25, u'degree': 8, u'coherence': 0.05120433542896617, u'surface-form': u'PRNewswire', u'offset': 25, u'position': u'summary', u'wiki-title': u'PR_Newswire', u'types': None}, {u'confidence': 0.41039577728471804, u'annotation-probability': 0.5362318840579711, u'degree': 26, u'coherence': 0.284559670511465, u'surface-form': u'Radiation therapy', u'offset': 40, u'position': u'summary', u'wiki-title': u'Radiation_therapy', u'types': None}, {u'confidence': 0.2858994976191883, u'annotation-probability': 0.2872393247269116, u'degree': 26, u'coherence': 0.284559670511465, u'surface-form': u'radiation', u'offset': 121, u'position': u'summary', u'wiki-title': u'Radiation_therapy', u'types': None}, {u'confidence': 0.22378874301469154, u'annotation-probability': 0.18030513176144244, u'degree': 22, u'coherence': 0.26727235426794066, u'surface-form': u'tumors', u'offset': 134, u'position': u'summary', u'wiki-title': u'Tumor', u'types': None}, {u'confidence': 0.2856128091367829, u'annotation-probability': 0.3188405797101449, u'degree': 26, u'coherence': 0.2523850385634208, u'surface-form': u'ablate', u'offset': 233, u'position': u'summary', u'wiki-title': u'Ablation', u'types': None}, {u'confidence': 0.22378874301469154, u'annotation-probability': 0.18030513176144244, u'degree': 22, u'coherence': 0.26727235426794066, u'surface-form': u'tumors', u'offset': 240, u'position': u'summary', u'wiki-title': u'Tumor', u'types': None}, {u'confidence': 0.17864116616695902, u'annotation-probability': 0.15181518151815182, u'degree': 17, u'coherence': 0.20546715081576625, u'surface-form': u'noninvasive', u'offset': 276, u'position': u'summary', u'wiki-title': u'Invasiveness_of_surgical_procedures', u'types': None}, {u'confidence': 0.2858994976191883, u'annotation-probability': 0.2872393247269116, u'degree': 26, u'coherence': 0.284559670511465, u'surface-form': u'radiation', u'offset': 317, u'position': u'summary', u'wiki-title': u'Radiation_therapy', u'types': None}, {u'confidence': 0.39517164759930257, u'annotation-probability': 0.5454545454545454, u'degree': 19, u'coherence': 0.24488874974405972, u'surface-form': u'Gamma Knife', u'offset': 391, u'position': u'content', u'wiki-title': u'Radiosurgery', u'types': None}, {u'confidence': 0.42967329053468045, u'annotation-probability': 0.6144578313253012, u'degree': 19, u'coherence': 0.24488874974405972, u'surface-form': u'radiosurgery', u'offset': 403, u'position': u'content', u'wiki-title': u'Radiosurgery', u'types': None}, {u'confidence': 0.43636750090303117, u'annotation-probability': 0.5881753312945973, u'degree': 26, u'coherence': 0.284559670511465, u'surface-form': u'radiation therapy', u'offset': 435, u'position': u'content', u'wiki-title': u'Radiation_therapy', u'types': None}, {u'confidence': 0.2977156394331001, u'annotation-probability': 0.3363431151241535, u'degree': 26, u'coherence': 0.2590881637420467, u'surface-form': u'brain tumors', u'offset': 481, u'position': u'content', u'wiki-title': u'Brain_tumor', u'types': {u'dbpedia': [u'Disease']}}, {u'confidence': 0.4312699409634029, u'annotation-probability': 0.625, u'degree': 17, u'coherence': 0.2375398819268057, u'surface-form': u'arteriovenous malformations', u'offset': 495, u'position': u'content', u'wiki-title': u'Arteriovenous_malformation', u'types': {u'dbpedia': [u'Disease']}}, {u'confidence': 0.5374551707060597, u'annotation-probability': 0.8363636363636363, u'degree': 19, u'coherence': 0.23854670504848313, u'surface-form': u'trigeminal neuralgia', u'offset': 524, u'position': u'content', u'wiki-title': u'Trigeminal_neuralgia', u'types': {u'dbpedia': [u'Disease']}}, {u'confidence': 0.38420798702983844, u'annotation-probability': 0.5757575757575758, u'degree': 14, u'coherence': 0.1926583983021011, u'surface-form': u'acoustic neuroma', u'offset': 546, u'position': u'content', u'wiki-title': u'Vestibular_schwannoma', u'types': {u'dbpedia': [u'Disease']}}, {u'confidence': 0.19613336845518214, u'annotation-probability': 0.16666666666666666, u'degree': 17, u'coherence': 0.22560007024369763, u'surface-form': u'pituitary tumors', u'offset': 568, u'position': u'content', u'wiki-title': u'Pituitary_adenoma', u'types': {u'dbpedia': [u'Disease']}}, {u'confidence': 0.39517164759930257, u'annotation-probability': 0.5454545454545454, u'degree': 19, u'coherence': 0.24488874974405972, u'surface-form': u'Gamma Knife', u'offset': 589, u'position': u'content', u'wiki-title': u'Radiosurgery', u'types': None}, {u'confidence': 0.17304473437584872, u'annotation-probability': 0.1029555845852384, u'degree': 25, u'coherence': 0.24313388416645904, u'surface-form': u'surgery', u'offset': 601, u'position': u'content', u'wiki-title': u'Surgery', u'types': None}, {u'confidence': 0.2858994976191883, u'annotation-probability': 0.2872393247269116, u'degree': 26, u'coherence': 0.284559670511465, u'surface-form': u'radiation', u'offset': 667, u'position': u'content', u'wiki-title': u'Radiation_therapy', u'types': None}, {u'confidence': 0.26610356097466614, u'annotation-probability': 0.2649347676813916, u'degree': 22, u'coherence': 0.26727235426794066, u'surface-form': u'tumor', u'offset': 682, u'position': u'content', u'wiki-title': u'Tumor', u'types': None}, {u'confidence': 0.21272986903391083, u'annotation-probability': 0.20994329421073454, u'degree': 23, u'coherence': 0.2155164438570871, u'surface-form': u'cells', u'offset': 706, u'position': u'content', u'wiki-title': u'Cell_(biology)', u'types': None}, {u'confidence': 0.07760737581841974, u'annotation-probability': 0.12677338957055215, u'degree': 3, u'coherence': 0.02844136206628734, u'surface-form': u'beam', u'offset': 718, u'position': u'content', u'wiki-title': u'Transporter_(Star_Trek)', u'types': None}, {u'confidence': 0.24349448167185422, u'annotation-probability': 0.23361429877119935, u'degree': 26, u'coherence': 0.2533746645725091, u'surface-form': u'brain', u'offset': 749, u'position': u'content', u'wiki-title': u'Brain', u'types': None}, {u'confidence': 0.2858994976191883, u'annotation-probability': 0.2872393247269116, u'degree': 26, u'coherence': 0.284559670511465, u'surface-form': u'radiation', u'offset': 794, u'position': u'content', u'wiki-title': u'Radiation_therapy', u'types': None}, {u'confidence': 0.26610356097466614, u'annotation-probability': 0.2649347676813916, u'degree': 22, u'coherence': 0.26727235426794066, u'surface-form': u'tumor', u'offset': 820, u'position': u'content', u'wiki-title': u'Tumor', u'types': None}, {u'confidence': 0.21272986903391083, u'annotation-probability': 0.20994329421073454, u'degree': 23, u'coherence': 0.2155164438570871, u'surface-form': u'cells', u'offset': 826, u'position': u'content', u'wiki-title': u'Cell_(biology)', u'types': None}, {u'confidence': 0.31456837143795435, u'annotation-probability': 0.36574951528222555, u'degree': 33, u'coherence': 0.26338722759368316, u'surface-form': u'cancer', u'offset': 874, u'position': u'content', u'wiki-title': u'Cancer', u'types': {u'dbpedia': [u'Disease']}}, {u'confidence': 0.39517164759930257, u'annotation-probability': 0.5454545454545454, u'degree': 19, u'coherence': 0.24488874974405972, u'surface-form': u'Gamma Knife', u'offset': 1009, u'position': u'content', u'wiki-title': u'Radiosurgery', u'types': None}, {u'confidence': 0.39517164759930257, u'annotation-probability': 0.5454545454545454, u'degree': 19, u'coherence': 0.24488874974405972, u'surface-form': u'Gamma Knife', u'offset': 1061, u'position': u'content', u'wiki-title': u'Radiosurgery', u'types': None}, {u'confidence': 0.39517164759930257, u'annotation-probability': 0.5454545454545454, u'degree': 19, u'coherence': 0.24488874974405972, u'surface-form': u'Gamma Knife', u'offset': 1166, u'position': u'content', u'wiki-title': u'Radiosurgery', u'types': None}, {u'confidence': 0.39517164759930257, u'annotation-probability': 0.5454545454545454, u'degree': 19, u'coherence': 0.24488874974405972, u'surface-form': u'Gamma Knife', u'offset': 1297, u'position': u'content', u'wiki-title': u'Radiosurgery', u'types': None}, {u'confidence': 0.13654717601871694, u'annotation-probability': 0.16800972115630597, u'degree': 18, u'coherence': 0.10508463088112789, u'surface-form': u'geography', u'offset': 1331, u'position': u'content', u'wiki-title': u'Geography', u'types': None}, {u'confidence': 0.20759931876166626, u'annotation-probability': 0.2764336002579674, u'degree': 24, u'coherence': 0.1387650372653651, u'surface-form': u'North America', u'offset': 1342, u'position': u'content', u'wiki-title': u'North_America', u'types': {u'dbpedia': [u'PopulatedPlace', u'Place', u'Continent'], u'schema': [u'Place', u'Continent']}}, {u'confidence': 0.39517164759930257, u'annotation-probability': 0.5454545454545454, u'degree': 19, u'coherence': 0.24488874974405972, u'surface-form': u'Gamma Knife', u'offset': 1377, u'position': u'content', u'wiki-title': u'Radiosurgery', u'types': None}, {u'confidence': 0.31456837143795435, u'annotation-probability': 0.36574951528222555, u'degree': 33, u'coherence': 0.26338722759368316, u'surface-form': u'cancer', u'offset': 1428, u'position': u'content', u'wiki-title': u'Cancer', u'types': {u'dbpedia': [u'Disease']}}, {u'confidence': 0.42967329053468045, u'annotation-probability': 0.6144578313253012, u'degree': 19, u'coherence': 0.24488874974405972, u'surface-form': u'radiosurgery', u'offset': 1472, u'position': u'content', u'wiki-title': u'Radiosurgery', u'types': None}, {u'confidence': 0.39517164759930257, u'annotation-probability': 0.5454545454545454, u'degree': 19, u'coherence': 0.24488874974405972, u'surface-form': u'Gamma Knife', u'offset': 1557, u'position': u'content', u'wiki-title': u'Radiosurgery', u'types': None}, {u'confidence': 0.31456837143795435, u'annotation-probability': 0.36574951528222555, u'degree': 33, u'coherence': 0.26338722759368316, u'surface-form': u'cancer', u'offset': 1584, u'position': u'content', u'wiki-title': u'Cancer', u'types': {u'dbpedia': [u'Disease']}}, {u'confidence': 0.39517164759930257, u'annotation-probability': 0.5454545454545454, u'degree': 19, u'coherence': 0.24488874974405972, u'surface-form': u'Gamma Knife', u'offset': 1636, u'position': u'content', u'wiki-title': u'Radiosurgery', u'types': None}, {u'confidence': 0.39517164759930257, u'annotation-probability': 0.5454545454545454, u'degree': 19, u'coherence': 0.24488874974405972, u'surface-form': u'Gamma Knife', u'offset': 1713, u'position': u'content', u'wiki-title': u'Radiosurgery', u'types': None}, {u'confidence': 0.3348184604118558, u'annotation-probability': 0.556767553733329, u'degree': 19, u'coherence': 0.11286936709038262, u'surface-form': u'Canada', u'offset': 1738, u'position': u'content', u'wiki-title': u'Canada', u'types': {u'dbpedia': [u'Country', u'PopulatedPlace', u'Place'], u'schema': [u'Country', u'Place']}}, {u'confidence': 0.20759931876166626, u'annotation-probability': 0.2764336002579674, u'degree': 24, u'coherence': 0.1387650372653651, u'surface-form': u'North America', u'offset': 1749, u'position': u'content', u'wiki-title': u'North_America', u'types': {u'dbpedia': [u'PopulatedPlace', u'Place', u'Continent'], u'schema': [u'Place', u'Continent']}}, {u'confidence': 0.17978383974509932, u'annotation-probability': 0.21724768758684151, u'degree': 26, u'coherence': 0.14231999190335715, u'surface-form': u'Europe', u'offset': 1767, u'position': u'content', u'wiki-title': u'European_Union', u'types': None}, {u'confidence': 0.2887800524918045, u'annotation-probability': 0.47481353785533353, u'degree': 16, u'coherence': 0.10274656712827551, u'surface-form': u'Germany', u'offset': 1775, u'position': u'content', u'wiki-title': u'Germany', u'types': {u'dbpedia': [u'Country', u'PopulatedPlace', u'Place'], u'schema': [u'Country', u'Place']}}, {u'confidence': 0.3017073289928033, u'annotation-probability': 0.515756151832878, u'degree': 14, u'coherence': 0.08765850615272858, u'surface-form': u'France', u'offset': 1784, u'position': u'content', u'wiki-title': u'France', u'types': {u'dbpedia': [u'Country', u'PopulatedPlace', u'Place'], u'schema': [u'Country', u'Place']}}, {u'confidence': 0.11644821054645635, u'annotation-probability': 0.09776177000257268, u'degree': 22, u'coherence': 0.13513465109034, u'surface-form': u'U.K.', u'offset': 1796, u'position': u'content', u'wiki-title': u'United_Kingdom', u'types': {u'dbpedia': [u'Country', u'PopulatedPlace', u'Place'], u'schema': [u'Country', u'Place']}}, {u'confidence': 0.2975814822626697, u'annotation-probability': 0.4955857224226315, u'degree': 15, u'coherence': 0.09957724210270795, u'surface-form': u'Italy', u'offset': 1802, u'position': u'content', u'wiki-title': u'Italy', u'types': {u'dbpedia': [u'Country', u'PopulatedPlace', u'Place'], u'schema': [u'Country', u'Place']}}, {u'confidence': 0.3187572965077495, u'annotation-probability': 0.5275783116303138, u'degree': 15, u'coherence': 0.10993628138518516, u'surface-form': u'Spain', u'offset': 1813, u'position': u'content', u'wiki-title': u'Spain', u'types': {u'dbpedia': [u'Country', u'PopulatedPlace', u'Place'], u'schema': [u'Country', u'Place']}}, {u'confidence': 0.39517164759930257, u'annotation-probability': 0.5454545454545454, u'degree': 19, u'coherence': 0.24488874974405972, u'surface-form': u'Gamma Knife', u'offset': 1844, u'position': u'content', u'wiki-title': u'Radiosurgery', u'types': None}, {u'confidence': 0.19365150470098297, u'annotation-probability': 0.23997221739885397, u'degree': 26, u'coherence': 0.14733079200311197, u'surface-form': u'Asia', u'offset': 1873, u'position': u'content', u'wiki-title': u'Asia', u'types': None}, {u'confidence': 0.39517164759930257, u'annotation-probability': 0.5454545454545454, u'degree': 19, u'coherence': 0.24488874974405972, u'surface-form': u'Gamma Knife', u'offset': 1923, u'position': u'content', u'wiki-title': u'Radiosurgery', u'types': None}, {u'confidence': 0.31456837143795435, u'annotation-probability': 0.36574951528222555, u'degree': 33, u'coherence': 0.26338722759368316, u'surface-form': u'cancer', u'offset': 1983, u'position': u'content', u'wiki-title': u'Cancer', u'types': {u'dbpedia': [u'Disease']}}, {u'confidence': 0.2582418448963716, u'annotation-probability': 0.36279366324979156, u'degree': 24, u'coherence': 0.15369002654295166, u'surface-form': u'Latin America', u'offset': 2023, u'position': u'content', u'wiki-title': u'Latin_America', u'types': {u'dbpedia': [u'PopulatedPlace', u'Place', u'Continent'], u'schema': [u'Place', u'Continent']}}, {u'confidence': 0.30172547950591433, u'annotation-probability': 0.38980891719745225, u'degree': 20, u'coherence': 0.21364204181437638, u'surface-form': u'incidence', u'offset': 2045, u'position': u'content', u'wiki-title': u'Incidence_(epidemiology)', u'types': None}, {u'confidence': 0.31456837143795435, u'annotation-probability': 0.36574951528222555, u'degree': 33, u'coherence': 0.26338722759368316, u'surface-form': u'cancer', u'offset': 2058, u'position': u'content', u'wiki-title': u'Cancer', u'types': {u'dbpedia': [u'Disease']}}, {u'confidence': 0.39517164759930257, u'annotation-probability': 0.5454545454545454, u'degree': 19, u'coherence': 0.24488874974405972, u'surface-form': u'Gamma Knife', u'offset': 2156, u'position': u'content', u'wiki-title': u'Radiosurgery', u'types': None}, {u'confidence': 0.39517164759930257, u'annotation-probability': 0.5454545454545454, u'degree': 19, u'coherence': 0.24488874974405972, u'surface-form': u'Gamma Knife', u'offset': 2253, u'position': u'content', u'wiki-title': u'Radiosurgery', u'types': None}, {u'confidence': 0.20707027906371556, u'annotation-probability': 0.3350735643094447, u'degree': 11, u'coherence': 0.07906699381798646, u'surface-form': u'dynamics', u'offset': 2399, u'position': u'content', u'wiki-title': u'Psychodynamics', u'types': None}, {u'confidence': 0.39517164759930257, u'annotation-probability': 0.5454545454545454, u'degree': 19, u'coherence': 0.24488874974405972, u'surface-form': u'Gamma Knife', u'offset': 2517, u'position': u'content', u'wiki-title': u'Radiosurgery', u'types': None}, {u'confidence': 0.13654717601871694, u'annotation-probability': 0.16800972115630597, u'degree': 18, u'coherence': 0.10508463088112789, u'surface-form': u'geography', u'offset': 2583, u'position': u'content', u'wiki-title': u'Geography', u'types': None}, {u'confidence': 0.39517164759930257, u'annotation-probability': 0.5454545454545454, u'degree': 19, u'coherence': 0.24488874974405972, u'surface-form': u'Gamma Knife', u'offset': 2624, u'position': u'content', u'wiki-title': u'Radiosurgery', u'types': None}, {u'confidence': 0.24349448167185422, u'annotation-probability': 0.23361429877119935, u'degree': 26, u'coherence': 0.2533746645725091, u'surface-form': u'brain', u'offset': 2671, u'position': u'content', u'wiki-title': u'Brain', u'types': None}, {u'confidence': 0.35452775369526934, u'annotation-probability': 0.43724696356275305, u'degree': 22, u'coherence': 0.27180854382778563, u'surface-form': u'metastases', u'offset': 2684, u'position': u'content', u'wiki-title': u'Metastasis', u'types': {u'dbpedia': [u'Disease']}}, {u'confidence': 0.335508020844671, u'annotation-probability': 0.4119278779472954, u'degree': 26, u'coherence': 0.2590881637420467, u'surface-form': u'brain tumor', u'offset': 2696, u'position': u'content', u'wiki-title': u'Brain_tumor', u'types': {u'dbpedia': [u'Disease']}}, {u'confidence': 0.5374551707060597, u'annotation-probability': 0.8363636363636363, u'degree': 19, u'coherence': 0.23854670504848313, u'surface-form': u'trigeminal neuralgia', u'offset': 2709, u'position': u'content', u'wiki-title': u'Trigeminal_neuralgia', u'types': {u'dbpedia': [u'Disease']}}, {u'confidence': 0.4312699409634029, u'annotation-probability': 0.625, u'degree': 17, u'coherence': 0.2375398819268057, u'surface-form': u'arteriovenous malformations', u'offset': 2731, u'position': u'content', u'wiki-title': u'Arteriovenous_malformation', u'types': {u'dbpedia': [u'Disease']}}, {u'confidence': 0.13654717601871694, u'annotation-probability': 0.16800972115630597, u'degree': 18, u'coherence': 0.10508463088112789, u'surface-form': u'geography', u'offset': 2788, u'position': u'content', u'wiki-title': u'Geography', u'types': None}, {u'confidence': 0.39517164759930257, u'annotation-probability': 0.5454545454545454, u'degree': 19, u'coherence': 0.24488874974405972, u'surface-form': u'Gamma Knife', u'offset': 2803, u'position': u'content', u'wiki-title': u'Radiosurgery', u'types': None}, {u'confidence': 0.20759931876166626, u'annotation-probability': 0.2764336002579674, u'degree': 24, u'coherence': 0.1387650372653651, u'surface-form': u'North America', u'offset': 2876, u'position': u'content', u'wiki-title': u'North_America', u'types': {u'dbpedia': [u'PopulatedPlace', u'Place', u'Continent'], u'schema': [u'Place', u'Continent']}}, {u'confidence': 0.17978383974509932, u'annotation-probability': 0.21724768758684151, u'degree': 26, u'coherence': 0.14231999190335715, u'surface-form': u'Europe', u'offset': 2891, u'position': u'content', u'wiki-title': u'European_Union', u'types': None}, {u'confidence': 0.19365150470098297, u'annotation-probability': 0.23997221739885397, u'degree': 26, u'coherence': 0.14733079200311197, u'surface-form': u'Asia', u'offset': 2899, u'position': u'content', u'wiki-title': u'Asia', u'types': None}, {u'confidence': 0.2582418448963716, u'annotation-probability': 0.36279366324979156, u'degree': 24, u'coherence': 0.15369002654295166, u'surface-form': u'Latin America', u'offset': 2905, u'position': u'content', u'wiki-title': u'Latin_America', u'types': {u'dbpedia': [u'PopulatedPlace', u'Place', u'Continent'], u'schema': [u'Place', u'Continent']}}, {u'confidence': 0.39517164759930257, u'annotation-probability': 0.5454545454545454, u'degree': 19, u'coherence': 0.24488874974405972, u'surface-form': u'Gamma Knife', u'offset': 2984, u'position': u'content', u'wiki-title': u'Radiosurgery', u'types': None}, {u'confidence': 0.21347093038057413, u'annotation-probability': 0.25, u'degree': 14, u'coherence': 0.1769418607611483, u'surface-form': u'Elekta', u'offset': 3007, u'position': u'content', u'wiki-title': u'Elekta', u'types': {u'dbpedia': [u'Organisation', u'Agent', u'Company'], u'schema': [u'Organization']}}, {u'confidence': 0.04603276643393914, u'annotation-probability': 0.02027733259006341, u'degree': 11, u'coherence': 0.07178820027781486, u'surface-form': u'AB', u'offset': 3014, u'position': u'content', u'wiki-title': u'Amplifier', u'types': None}, {u'confidence': 0.3778072829535677, u'annotation-probability': 0.6086956521739131, u'degree': 12, u'coherence': 0.1469189137332223, u'surface-form': u'Varian Medical Systems', u'offset': 3018, u'position': u'content', u'wiki-title': u'Varian_Medical_Systems', u'types': {u'dbpedia': [u'Organisation', u'Agent', u'Company'], u'schema': [u'Organization']}}, {u'confidence': 0.1469476620546096, u'annotation-probability': 0.2571428571428571, u'degree': 5, u'coherence': 0.03675246696636207, u'surface-form': u'Infini', u'offset': 3112, u'position': u'content', u'wiki-title': u'Infini_(album)', u'types': {u'dbpedia': [u'Album', u'MusicalWork', u'Work'], u'schema': [u'CreativeWork', u'MusicAlbum']}}, {u'confidence': 0.16833003225451587, u'annotation-probability': 0.2647058823529412, u'degree': 11, u'coherence': 0.07195418215609055, u'surface-form': u'Nordion', u'offset': 3133, u'position': u'content', u'wiki-title': u'Nordion', u'types': {u'dbpedia': [u'Organisation', u'Agent', u'Company'], u'schema': [u'Organization']}}, {u'confidence': 0.18064173625462374, u'annotation-probability': 0.26675620516822235, u'degree': 18, u'coherence': 0.09452726734102514, u'surface-form': u'American', u'offset': 3177, u'position': u'content', u'wiki-title': u'United_States', u'types': {u'dbpedia': [u'Country', u'PopulatedPlace', u'Place'], u'schema': [u'Country', u'Place']}}, {u'confidence': 0.5473411926676972, u'annotation-probability': 1, u'degree': 16, u'coherence': 0.09468238533539453, u'surface-form': u'sustainability', u'offset': 3349, u'position': u'content', u'wiki-title': u'Sustainability', u'types': None}, {u'confidence': 0.1875715169748839, u'annotation-probability': 0.35698978948695326, u'degree': 4, u'coherence': 0.018153244462814522, u'surface-form': u'Clare', u'offset': 3726, u'position': u'content', u'wiki-title': u'County_Clare', u'types': {u'dbpedia': [u'PopulatedPlace', u'Place', u'Settlement'], u'schema': [u'Place']}}, {u'confidence': 0.1875715169748839, u'annotation-probability': 0.35698978948695326, u'degree': 4, u'coherence': 0.018153244462814522, u'surface-form': u'clare', u'offset': 3733, u'position': u'content', u'wiki-title': u'County_Clare', u'types': {u'dbpedia': [u'PopulatedPlace', u'Place', u'Settlement'], u'schema': [u'Place']}}, {u'confidence': 0.08501772299511542, u'annotation-probability': 0.04420388788207114, u'degree': 22, u'coherence': 0.1258315581081597, u'surface-form': u'US', u'offset': 3758, u'position': u'content', u'wiki-title': u'United_States_dollar', u'types': {u'dbpedia': [u'Currency']}}, {u'confidence': 0.29081955901883094, u'annotation-probability': 0.5304347826086957, u'degree': 8, u'coherence': 0.05120433542896617, u'surface-form': u'PR Newswire', u'offset': 3835, u'position': u'content', u'wiki-title': u'PR_Newswire', u'types': None}, {u'confidence': 0.23730241896780918, u'annotation-probability': 0.375, u'degree': 18, u'coherence': 0.09960483793561836, u'surface-form': u'Sep. 1', u'offset': 4017, u'position': u'content', u'wiki-title': u'September_1', u'types': None}, {u'confidence': 0.265579888076145, u'annotation-probability': 0.4460431654676259, u'degree': 16, u'coherence': 0.08511661068466411, u'surface-form': u'Syndicated', u'offset': 4094, u'position': u'content', u'wiki-title': u'Broadcast_syndication', u'types': None}, {u'confidence': 0.0941907610807035, u'annotation-probability': 0.10563544274320312, u'degree': 17, u'coherence': 0.08274607941820387, u'surface-form': u'blog', u'offset': 4117, u'position': u'content', u'wiki-title': u'Blog', u'types': None}], u'author': u'Liz McMillan', u'english-language-confidence': u'0.999997906887078', u'original-url': u'http://it.sys-con.com/node/3438086', u'published': u'2015-09-01T22:39:23Z'}, u'_index': u'articles'}\n"
     ]
    }
   ],
   "source": [
    "print res_flat[0]"
   ]
  },
  {
   "cell_type": "code",
   "execution_count": 71,
   "metadata": {
    "collapsed": true
   },
   "outputs": [],
   "source": [
    "df = pd.DataFrame([doc['_source'] for doc in res_flat])"
   ]
  },
  {
   "cell_type": "code",
   "execution_count": 72,
   "metadata": {
    "collapsed": false
   },
   "outputs": [
    {
     "data": {
      "text/plain": [
       "MyInforms                                    835\n",
       "Individual.com                               323\n",
       "4 Traders                                    258\n",
       "Reuters                                      203\n",
       "Town Hall                                    182\n",
       "NewsR.in                                     180\n",
       "App.ViralNewsChart.com                       172\n",
       "Marketplace                                  168\n",
       "Wall Street Business Network                 167\n",
       "Yahoo! Finance                               159\n",
       "Fat Pitch Financials                         159\n",
       "Market Pulse Navigator                       159\n",
       "Mail Online UK                               158\n",
       "Financial Content                            156\n",
       "Latest Nigerian News.com                     155\n",
       "BioSpace                                     155\n",
       "Wall Street Select                           145\n",
       "Bloomberg                                    142\n",
       "Pettinga Financial Advisors                  139\n",
       "CEOWorld Magazine                            131\n",
       "MoneyShow.com                                130\n",
       "Yahoo! News Australia                        129\n",
       "Good Day Sacramento                          124\n",
       "EIN News                                     122\n",
       "SearchBug                                    121\n",
       "Stock Nod                                    113\n",
       "Uncova                                       102\n",
       "Yahoo! India                                  98\n",
       "WSFA                                          96\n",
       "The Hindu                                     87\n",
       "                                            ... \n",
       "Mexican American Pro Archives                  1\n",
       "Williams Family                                1\n",
       "Kantar Retail IQ                               1\n",
       "We Love Ford's, Past, Present And Future.      1\n",
       "Granite in My Blood                            1\n",
       "Wicked Local Walpole                           1\n",
       "Hillydilly                                     1\n",
       "4Player Network                                1\n",
       "Herald-Palladium                               1\n",
       "peistormchaser                                 1\n",
       "PolitEkon                                      1\n",
       "Corporate Citizenship                          1\n",
       "Aldershot Town                                 1\n",
       "UTV Industry News                              1\n",
       "LED news                                       1\n",
       "Food For Thought                               1\n",
       "Virtual Assistant Reviews                      1\n",
       "Rittenhousehotel                               1\n",
       "musicforalifetime                              1\n",
       "KBOI.com                                       1\n",
       "Ike's World                                    1\n",
       "Karachi Informer                               1\n",
       "Psycho-Oncology                                1\n",
       "The Gray Dawn will Become Full Day             1\n",
       "COUNTRY LOG CABIN                              1\n",
       "Donegal Daily                                  1\n",
       "Make That Change                               1\n",
       "Balanced Scorecard                             1\n",
       "Fresh Cinema                                   1\n",
       "mangozeen                                      1\n",
       "Name: source, dtype: int64"
      ]
     },
     "execution_count": 72,
     "metadata": {},
     "output_type": "execute_result"
    }
   ],
   "source": [
    "df['source'].value_counts()"
   ]
  },
  {
   "cell_type": "code",
   "execution_count": 75,
   "metadata": {
    "collapsed": false
   },
   "outputs": [
    {
     "data": {
      "text/plain": [
       "(array([  1.37430000e+04,   8.10000000e+01,   8.00000000e+00,\n",
       "          1.40000000e+01,   5.00000000e+00,   0.00000000e+00,\n",
       "          1.00000000e+00,   1.00000000e+00,   0.00000000e+00,\n",
       "          0.00000000e+00,   0.00000000e+00,   0.00000000e+00,\n",
       "          0.00000000e+00,   0.00000000e+00,   0.00000000e+00,\n",
       "          0.00000000e+00,   0.00000000e+00,   0.00000000e+00,\n",
       "          0.00000000e+00,   1.00000000e+00]),\n",
       " array([   1. ,   42.7,   84.4,  126.1,  167.8,  209.5,  251.2,  292.9,\n",
       "         334.6,  376.3,  418. ,  459.7,  501.4,  543.1,  584.8,  626.5,\n",
       "         668.2,  709.9,  751.6,  793.3,  835. ]),\n",
       " <a list of 20 Patch objects>)"
      ]
     },
     "execution_count": 75,
     "metadata": {},
     "output_type": "execute_result"
    },
    {
     "data": {
      "image/png": "[encoded data removed]",
      "text/plain": [
       "<matplotlib.figure.Figure at 0x16ed59310>"
      ]
     },
     "metadata": {},
     "output_type": "display_data"
    }
   ],
   "source": [
    "plt.hist(df['source'].value_counts(), bins=20)"
   ]
  },
  {
   "cell_type": "code",
   "execution_count": null,
   "metadata": {
    "collapsed": true
   },
   "outputs": [],
   "source": []
  }
 ],
 "metadata": {
  "kernelspec": {
   "display_name": "Python 2",
   "language": "python",
   "name": "python2"
  },
  "language_info": {
   "codemirror_mode": {
    "name": "ipython",
    "version": 2
   },
   "file_extension": ".py",
   "mimetype": "text/x-python",
   "name": "python",
   "nbconvert_exporter": "python",
   "pygments_lexer": "ipython2",
   "version": "2.7.10"
  }
 },
 "nbformat": 4,
 "nbformat_minor": 0
}
