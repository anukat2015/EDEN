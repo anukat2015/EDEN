{
 "cells": [
  {
   "cell_type": "code",
   "execution_count": 2,
   "metadata": {
    "collapsed": true
   },
   "outputs": [],
   "source": [
    "data = [(\"1.json\", 95), (\"11.json\", 9010), (\"12.json\", 346), (\"13.json\", 1119), (\"14.json\", 583), (\"15.json\", 957), (\"16.json\", 2050), (\"17.json\", 2749), (\"18a.json\", 1887), (\"18b.json\", 1887), (\"19.json\", 67), (\"2.json\", 89), (\"20.json\", 97), (\"21.json\", 412), (\"22a.json\", 1766), (\"22b.json\", 1766), (\"22c.json\", 1766), (\"23.json\", 85), (\"24a.json\", 2123), (\"24b.json\", 2123), (\"25.json\", 559), (\"26.json\", 709), (\"27.json\", 636), (\"28.json\", 301), (\"29.json\", 183), (\"3.json\", 909), (\"30.json\", 35), (\"31.json\", 1789), (\"32.json\", 811), (\"33.json\", 45), (\"34.json\", 618), (\"35.json\", 23), (\"36.json\", 1385), (\"37.json\", 502), (\"38.json\", 6424), (\"4.json\", 4639), (\"40.json\", 287), (\"5.json\", 430), (\"6.json\", 41), (\"8a.json\", 447), (\"8b.json\", 447), (\"9.json\", 641)]"
   ]
  },
  {
   "cell_type": "code",
   "execution_count": 3,
   "metadata": {
    "collapsed": false
   },
   "outputs": [
    {
     "data": {
      "text/plain": [
       "list"
      ]
     },
     "execution_count": 3,
     "metadata": {},
     "output_type": "execute_result"
    }
   ],
   "source": [
    "type(data)"
   ]
  },
  {
   "cell_type": "code",
   "execution_count": 4,
   "metadata": {
    "collapsed": false
   },
   "outputs": [
    {
     "data": {
      "text/plain": [
       "tuple"
      ]
     },
     "execution_count": 4,
     "metadata": {},
     "output_type": "execute_result"
    }
   ],
   "source": [
    "type(data[0])"
   ]
  },
  {
   "cell_type": "code",
   "execution_count": 5,
   "metadata": {
    "collapsed": false
   },
   "outputs": [
    {
     "data": {
      "text/plain": [
       "[('35.json', 23),\n",
       " ('30.json', 35),\n",
       " ('6.json', 41),\n",
       " ('33.json', 45),\n",
       " ('19.json', 67),\n",
       " ('23.json', 85),\n",
       " ('2.json', 89),\n",
       " ('1.json', 95),\n",
       " ('20.json', 97),\n",
       " ('29.json', 183),\n",
       " ('40.json', 287),\n",
       " ('28.json', 301),\n",
       " ('12.json', 346),\n",
       " ('21.json', 412),\n",
       " ('5.json', 430),\n",
       " ('8a.json', 447),\n",
       " ('8b.json', 447),\n",
       " ('37.json', 502),\n",
       " ('25.json', 559),\n",
       " ('14.json', 583),\n",
       " ('34.json', 618),\n",
       " ('27.json', 636),\n",
       " ('9.json', 641),\n",
       " ('26.json', 709),\n",
       " ('32.json', 811),\n",
       " ('3.json', 909),\n",
       " ('15.json', 957),\n",
       " ('13.json', 1119),\n",
       " ('36.json', 1385),\n",
       " ('22a.json', 1766),\n",
       " ('22b.json', 1766),\n",
       " ('22c.json', 1766),\n",
       " ('31.json', 1789),\n",
       " ('18a.json', 1887),\n",
       " ('18b.json', 1887),\n",
       " ('16.json', 2050),\n",
       " ('24a.json', 2123),\n",
       " ('24b.json', 2123),\n",
       " ('17.json', 2749),\n",
       " ('4.json', 4639),\n",
       " ('38.json', 6424),\n",
       " ('11.json', 9010)]"
      ]
     },
     "execution_count": 5,
     "metadata": {},
     "output_type": "execute_result"
    }
   ],
   "source": [
    "data_sorted = sorted(data, key=lambda x: x[1])\n",
    "data_sorted"
   ]
  },
  {
   "cell_type": "code",
   "execution_count": 6,
   "metadata": {
    "collapsed": false
   },
   "outputs": [
    {
     "data": {
      "text/plain": [
       "[('35.json', 23),\n",
       " ('30.json', 35),\n",
       " ('6.json', 41),\n",
       " ('33.json', 45),\n",
       " ('19.json', 67),\n",
       " ('23.json', 85),\n",
       " ('2.json', 89),\n",
       " ('1.json', 95),\n",
       " ('20.json', 97),\n",
       " ('29.json', 183),\n",
       " ('40.json', 287),\n",
       " ('28.json', 301),\n",
       " ('12.json', 346),\n",
       " ('21.json', 412),\n",
       " ('5.json', 430),\n",
       " ('8a.json', 447),\n",
       " ('37.json', 502),\n",
       " ('25.json', 559),\n",
       " ('14.json', 583),\n",
       " ('34.json', 618),\n",
       " ('27.json', 636),\n",
       " ('9.json', 641),\n",
       " ('26.json', 709),\n",
       " ('32.json', 811),\n",
       " ('3.json', 909),\n",
       " ('15.json', 957),\n",
       " ('13.json', 1119),\n",
       " ('36.json', 1385),\n",
       " ('22a.json', 1766),\n",
       " ('31.json', 1789),\n",
       " ('18a.json', 1887),\n",
       " ('16.json', 2050),\n",
       " ('24a.json', 2123),\n",
       " ('17.json', 2749),\n",
       " ('4.json', 4639),\n",
       " ('38.json', 6424),\n",
       " ('11.json', 9010)]"
      ]
     },
     "execution_count": 6,
     "metadata": {},
     "output_type": "execute_result"
    }
   ],
   "source": [
    "[('35.json', 23),\n",
    " ('30.json', 35),\n",
    " ('6.json', 41),\n",
    " ('33.json', 45),\n",
    " ('19.json', 67),\n",
    " ('23.json', 85),\n",
    " ('2.json', 89),\n",
    " ('1.json', 95),\n",
    " ('20.json', 97),\n",
    " ('29.json', 183),\n",
    " ('40.json', 287),\n",
    " ('28.json', 301),\n",
    " ('12.json', 346),\n",
    " ('21.json', 412),\n",
    " ('5.json', 430),\n",
    " ('8a.json', 447),\n",
    " ('37.json', 502),\n",
    " ('25.json', 559),\n",
    " ('14.json', 583),\n",
    " ('34.json', 618),\n",
    " ('27.json', 636),\n",
    " ('9.json', 641),\n",
    " ('26.json', 709),\n",
    " ('32.json', 811),\n",
    " ('3.json', 909),\n",
    " ('15.json', 957),\n",
    " ('13.json', 1119),\n",
    " ('36.json', 1385),\n",
    " ('22a.json', 1766),\n",
    " ('31.json', 1789),\n",
    " ('18a.json', 1887),\n",
    " ('16.json', 2050),\n",
    " ('24a.json', 2123),\n",
    " ('17.json', 2749),\n",
    " ('4.json', 4639),\n",
    " ('38.json', 6424),\n",
    " ('11.json', 9010)]"
   ]
  },
  {
   "cell_type": "code",
   "execution_count": null,
   "metadata": {
    "collapsed": true
   },
   "outputs": [],
   "source": []
  }
 ],
 "metadata": {
  "kernelspec": {
   "display_name": "Python 2",
   "language": "python",
   "name": "python2"
  },
  "language_info": {
   "codemirror_mode": {
    "name": "ipython",
    "version": 2
   },
   "file_extension": ".py",
   "mimetype": "text/x-python",
   "name": "python",
   "nbconvert_exporter": "python",
   "pygments_lexer": "ipython2",
   "version": "2.7.10"
  }
 },
 "nbformat": 4,
 "nbformat_minor": 0
}
