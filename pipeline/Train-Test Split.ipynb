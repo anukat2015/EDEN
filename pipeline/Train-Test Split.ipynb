{
 "cells": [
  {
   "cell_type": "code",
   "execution_count": 15,
   "metadata": {
    "collapsed": true
   },
   "outputs": [],
   "source": [
    "import numpy as np\n",
    "import itertools\n",
    "import ast\n",
    "import matplotlib.pyplot as plt\n",
    "%matplotlib inline"
   ]
  },
  {
   "cell_type": "code",
   "execution_count": 3,
   "metadata": {
    "collapsed": true
   },
   "outputs": [],
   "source": [
    "feeds = [1, 12, 2, 20, 21, 23, 28, 29, 30, 33, 35, 40, 5, 6]"
   ]
  },
  {
   "cell_type": "code",
   "execution_count": 4,
   "metadata": {
    "collapsed": true
   },
   "outputs": [],
   "source": [
    "a = [95, 346, 89, 97, 412, 85, 301, 183, 35, 45, 23, 287, 430, 41]\n",
    "r = [24, 21, 12, 9, 49, 15, 4, 5, 17, 8, 6, 9, 149, 10]\n",
    "a = [float(el) for el in a]\n",
    "r = [float(el) for el in r]\n",
    "\n",
    "a = dict(zip(feeds,a))\n",
    "r = dict(zip(feeds,a))"
   ]
  },
  {
   "cell_type": "code",
   "execution_count": 5,
   "metadata": {
    "collapsed": false
   },
   "outputs": [
    {
     "data": {
      "text/plain": [
       "14"
      ]
     },
     "execution_count": 5,
     "metadata": {},
     "output_type": "execute_result"
    }
   ],
   "source": [
    "len(a)"
   ]
  },
  {
   "cell_type": "code",
   "execution_count": 7,
   "metadata": {
    "collapsed": false
   },
   "outputs": [
    {
     "data": {
      "text/plain": [
       "2469.0"
      ]
     },
     "execution_count": 7,
     "metadata": {},
     "output_type": "execute_result"
    }
   ],
   "source": [
    "sum(a.values())"
   ]
  },
  {
   "cell_type": "code",
   "execution_count": 8,
   "metadata": {
    "collapsed": false
   },
   "outputs": [
    {
     "data": {
      "text/plain": [
       "20.357142857142858"
      ]
     },
     "execution_count": 8,
     "metadata": {},
     "output_type": "execute_result"
    }
   ],
   "source": [
    "np.mean(r.values())"
   ]
  },
  {
   "cell_type": "code",
   "execution_count": 61,
   "metadata": {
    "collapsed": false
   },
   "outputs": [
    {
     "data": {
      "text/plain": [
       "142.5"
      ]
     },
     "execution_count": 61,
     "metadata": {},
     "output_type": "execute_result"
    }
   ],
   "source": [
    "sum(a) * 0.5"
   ]
  },
  {
   "cell_type": "code",
   "execution_count": 62,
   "metadata": {
    "collapsed": false
   },
   "outputs": [
    {
     "data": {
      "text/plain": [
       "[0, 1, 2, 3, 4, 5, 6, 7, 8, 9, 10, 11, 12, 13]"
      ]
     },
     "execution_count": 62,
     "metadata": {},
     "output_type": "execute_result"
    }
   ],
   "source": [
    "range(len(a))"
   ]
  },
  {
   "cell_type": "code",
   "execution_count": 63,
   "metadata": {
    "collapsed": true
   },
   "outputs": [],
   "source": [
    "def sublists(xs):\n",
    "    l = len(xs)\n",
    "    for i in range(1 << l):\n",
    "        incl, excl = [], []\n",
    "        for j in range(l):\n",
    "            if i & (1 << j):\n",
    "                incl.append(xs[j])\n",
    "            else:\n",
    "                excl.append(xs[j])\n",
    "        yield (incl, excl)"
   ]
  },
  {
   "cell_type": "code",
   "execution_count": 64,
   "metadata": {
    "collapsed": false
   },
   "outputs": [],
   "source": [
    "perms = list(sublists(feeds))"
   ]
  },
  {
   "cell_type": "code",
   "execution_count": 65,
   "metadata": {
    "collapsed": false
   },
   "outputs": [
    {
     "data": {
      "text/plain": [
       "([], [1, 12, 2, 20, 21, 23, 28, 29, 30, 33, 35, 40, 5, 6])"
      ]
     },
     "execution_count": 65,
     "metadata": {},
     "output_type": "execute_result"
    }
   ],
   "source": [
    "perms[0]"
   ]
  },
  {
   "cell_type": "code",
   "execution_count": 66,
   "metadata": {
    "collapsed": false
   },
   "outputs": [
    {
     "data": {
      "text/plain": [
       "[]"
      ]
     },
     "execution_count": 66,
     "metadata": {},
     "output_type": "execute_result"
    }
   ],
   "source": [
    "list(perms[0])[0]"
   ]
  },
  {
   "cell_type": "code",
   "execution_count": 67,
   "metadata": {
    "collapsed": true
   },
   "outputs": [],
   "source": [
    "perms_dev = perms[0:10]"
   ]
  },
  {
   "cell_type": "code",
   "execution_count": 68,
   "metadata": {
    "collapsed": false
   },
   "outputs": [],
   "source": [
    "def balance_sublists(perms):\n",
    "    \n",
    "    max_mean = 1.0\n",
    "    save_set = []\n",
    "    \n",
    "    for p in perms:\n",
    "        l = list(p)\n",
    "        train = l[0]\n",
    "        test = l[1]\n",
    "\n",
    "        train_article_sum = sum([a[i] for i in train])\n",
    "        train_label_sum = sum([r[i] for i in train])\n",
    "        test_article_sum = sum([a[i] for i in test])\n",
    "        test_label_sum = sum([r[i] for i in test])\n",
    "        \n",
    "        a_ratio = (1+train_article_sum)/(1+test_article_sum)\n",
    "        r_ratio = (1+train_label_sum)/(1+test_label_sum) \n",
    "        mean_ratio = (a_ratio + r_ratio)/2\n",
    "        \n",
    "        if np.abs(0.5 - mean_ratio) < np.abs(0.5 - max_mean):\n",
    "            max_mean = mean_ratio\n",
    "            save_set = l\n",
    "        \n",
    "#         print train, test\n",
    "#         print train_article_sum, train_label_sum\n",
    "#         print test_article_sum, test_label_sum\n",
    "#         print a_ratio, r_ratio\n",
    "#         print mean_ratio\n",
    "        \n",
    "    print \"algo output\"\n",
    "    print max_mean\n",
    "    print save_set"
   ]
  },
  {
   "cell_type": "code",
   "execution_count": 69,
   "metadata": {
    "collapsed": false
   },
   "outputs": [
    {
     "name": "stdout",
     "output_type": "stream",
     "text": [
      "algo output\n",
      "0.499595469256\n",
      "[[1, 12, 21, 28, 30, 33], [2, 20, 23, 29, 35, 40, 5, 6]]\n"
     ]
    }
   ],
   "source": [
    "balance_sublists(perms)"
   ]
  },
  {
   "cell_type": "code",
   "execution_count": 97,
   "metadata": {
    "collapsed": true
   },
   "outputs": [],
   "source": [
    "params_str = '{\"n_clusters\": [1,2,3,4,5,6,7,8,9,10]}'"
   ]
  },
  {
   "cell_type": "code",
   "execution_count": 99,
   "metadata": {
    "collapsed": false
   },
   "outputs": [
    {
     "name": "stdout",
     "output_type": "stream",
     "text": [
      "(1,)\n",
      "params_inst {'n_clusters': 1}\n",
      "(2,)\n",
      "params_inst {'n_clusters': 2}\n",
      "(3,)\n",
      "params_inst {'n_clusters': 3}\n",
      "(4,)\n",
      "params_inst {'n_clusters': 4}\n",
      "(5,)\n",
      "params_inst {'n_clusters': 5}\n",
      "(6,)\n",
      "params_inst {'n_clusters': 6}\n",
      "(7,)\n",
      "params_inst {'n_clusters': 7}\n",
      "(8,)\n",
      "params_inst {'n_clusters': 8}\n",
      "(9,)\n",
      "params_inst {'n_clusters': 9}\n",
      "(10,)\n",
      "params_inst {'n_clusters': 10}\n"
     ]
    }
   ],
   "source": [
    "params = ast.literal_eval(params_str)\n",
    "params_grid = list(itertools.product(*params.values()))\n",
    "\n",
    "for p_inst in params_grid:\n",
    "    print p_inst\n",
    "    params_inst = {}\n",
    "    p_list = list(p_inst)\n",
    "    for i, key in enumerate(params): \n",
    "        params_inst[key] = p_list[i]\n",
    "    print \"params_inst\", params_inst"
   ]
  },
  {
   "cell_type": "code",
   "execution_count": 12,
   "metadata": {
    "collapsed": false
   },
   "outputs": [
    {
     "name": "stdout",
     "output_type": "stream",
     "text": [
      "[   7.6    14.72   16.56   50.96   54.24   57.84   80.8   108.48  116.24\n",
      "  149.2   156.    180.08  194.72  197.52]\n"
     ]
    }
   ],
   "source": [
    "print np.cumsum(a.values())*0.08"
   ]
  },
  {
   "cell_type": "code",
   "execution_count": 13,
   "metadata": {
    "collapsed": true
   },
   "outputs": [],
   "source": [
    "cum_a = np.cumsum(a.values())\n",
    "clusters = cum_a * 0.08\n",
    "mac_f1 = [0.8, 0.93, 0.77, 0.81, 0.75, 0.73, 0.66, 0.63, 0.67, 0.69]\n",
    "mic_f1 = [0.8, 0.93, 0.75, 0.79, 0.68, 0.67, 0.64, 0.63, 0.61, 0.65]"
   ]
  },
  {
   "cell_type": "code",
   "execution_count": 19,
   "metadata": {
    "collapsed": false
   },
   "outputs": [
    {
     "data": {
      "text/plain": [
       "<matplotlib.legend.Legend at 0x10866ae50>"
      ]
     },
     "execution_count": 19,
     "metadata": {},
     "output_type": "execute_result"
    },
    {
     "data": {
      "image/png": "[encoded data removed]",
      "text/plain": [
       "<matplotlib.figure.Figure at 0x1082006d0>"
      ]
     },
     "metadata": {},
     "output_type": "display_data"
    }
   ],
   "source": [
    "plt.figure(figsize=())\n",
    "plt.plot(cum_a[:10], mac_f1)\n",
    "plt.plot(cum_a[:10], mic_f1)\n",
    "plt.ylabel('F1 score')\n",
    "plt.xlabel('Size of dataset (number of articles)')\n",
    "plt.legend(['Macro-avg', 'Micro-avg'])"
   ]
  },
  {
   "cell_type": "code",
   "execution_count": null,
   "metadata": {
    "collapsed": true
   },
   "outputs": [],
   "source": []
  }
 ],
 "metadata": {
  "kernelspec": {
   "display_name": "Python 2",
   "language": "python",
   "name": "python2"
  },
  "language_info": {
   "codemirror_mode": {
    "name": "ipython",
    "version": 2
   },
   "file_extension": ".py",
   "mimetype": "text/x-python",
   "name": "python",
   "nbconvert_exporter": "python",
   "pygments_lexer": "ipython2",
   "version": "2.7.10"
  }
 },
 "nbformat": 4,
 "nbformat_minor": 0
}
