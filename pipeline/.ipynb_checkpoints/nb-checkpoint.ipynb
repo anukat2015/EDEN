{
 "cells": [
  {
   "cell_type": "code",
   "execution_count": 1,
   "metadata": {
    "collapsed": true
   },
   "outputs": [],
   "source": [
    "import edenutil"
   ]
  },
  {
   "cell_type": "code",
   "execution_count": 2,
   "metadata": {
    "collapsed": false
   },
   "outputs": [
    {
     "name": "stdout",
     "output_type": "stream",
     "text": [
      "[EDEN I/O -- read_data] Files: \n",
      "f:  1\n",
      "f:  12\n",
      "f:  2\n",
      "f:  20\n",
      "f:  21\n",
      "f:  23\n",
      "f:  28\n",
      "f:  29\n",
      "f:  30\n",
      "f:  33\n",
      "f:  35\n",
      "f:  40\n",
      "f:  5\n",
      "f:  6\n",
      "[EDEN I/O -- read_data] Data length:  2469\n",
      "[EDEN I/O -- read_data] Data type:  <type 'list'>\n"
     ]
    }
   ],
   "source": [
    "fn = '1,12,2,20,21,23,28,29,30,33,35,40,5,6'\n",
    "data = edenutil.read_data(fn)"
   ]
  },
  {
   "cell_type": "code",
   "execution_count": null,
   "metadata": {
    "collapsed": true
   },
   "outputs": [],
   "source": []
  }
 ],
 "metadata": {
  "kernelspec": {
   "display_name": "Python 2",
   "language": "python",
   "name": "python2"
  },
  "language_info": {
   "codemirror_mode": {
    "name": "ipython",
    "version": 2
   },
   "file_extension": ".py",
   "mimetype": "text/x-python",
   "name": "python",
   "nbconvert_exporter": "python",
   "pygments_lexer": "ipython2",
   "version": "2.7.10"
  }
 },
 "nbformat": 4,
 "nbformat_minor": 0
}
