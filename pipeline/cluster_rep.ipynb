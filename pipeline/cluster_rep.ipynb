{
 "cells": [
  {
   "cell_type": "code",
   "execution_count": 1,
   "metadata": {
    "collapsed": true
   },
   "outputs": [],
   "source": [
    "import matplotlib.pyplot as plt\n",
    "import pandas as pd\n",
    "import numpy as np\n",
    "import scipy as sp\n",
    "import ast\n",
    "from mpl_toolkits.mplot3d import Axes3D\n",
    "import edenutil\n",
    "\n",
    "%matplotlib inline\n",
    "%load_ext autoreload\n",
    "%autoreload 2\n",
    "\n",
    "try:\n",
    "   import cPickle as pickle\n",
    "except:\n",
    "   import pickle\n",
    "\n",
    "def save_obj(obj, name ):\n",
    "    with open('../data/'+ name + '.pkl', 'wb') as f:\n",
    "        pickle.dump(obj, f, pickle.HIGHEST_PROTOCOL)\n",
    "\n",
    "def load_obj(name):\n",
    "    with open(name, 'rb') as f:\n",
    "        return pickle.load(f)"
   ]
  },
  {
   "cell_type": "code",
   "execution_count": 2,
   "metadata": {
    "collapsed": true
   },
   "outputs": [],
   "source": [
    "dir_ = 'io/cluster_data/'\n",
    "model_gac_t = load_obj(dir_+'cluster_data_fn_1,12,2,20,21,23,28,29,30,33,35,40,5,6_method_ltc_algo_gactemporal_params_{\"p\": 0.7, \"s\": 0.7}.p')\n",
    "model_kmeans = load_obj(dir_+'cluster_data_fn_1,12,2,20,21,23,28,29,30,33,35,40,5,6_method_ltc_algo_kmeans_params_{\"n_clusters\": 150}.p')\n",
    "data_pre = load_obj('io/preprocess_data/preprocess_data_fn_1,12,2,20,21,23,28,29,30,33,35,40,5,6_method_ltc.p')"
   ]
  },
  {
   "cell_type": "code",
   "execution_count": 3,
   "metadata": {
    "collapsed": false
   },
   "outputs": [
    {
     "name": "stdout",
     "output_type": "stream",
     "text": [
      "1\n",
      "12\n",
      "2\n",
      "20\n",
      "21\n",
      "23\n",
      "28\n",
      "29\n",
      "30\n",
      "33\n",
      "35\n",
      "40\n",
      "5\n",
      "6\n"
     ]
    }
   ],
   "source": [
    "ids_ = data_pre['id'].values\n",
    "ec_gac_t = edenutil.match_event_cluster(edenutil.get_df_label(ids_, model_gac_t), edenutil.get_df_eval('1,12,2,20,21,23,28,29,30,33,35,40,5,6'))\n",
    "vsm_re = edenutil.recon_vsm(data_pre['vsm'])"
   ]
  },
  {
   "cell_type": "code",
   "execution_count": 4,
   "metadata": {
    "collapsed": false
   },
   "outputs": [
    {
     "data": {
      "text/plain": [
       "{1: (519.0, 13),\n",
       " 2: (1148.0, 7),\n",
       " 5: (1306.0, 39),\n",
       " 6: (543.0, 7),\n",
       " 13: (289.0, 19),\n",
       " 22: (341.0, 9),\n",
       " 23: (1344.0, 25),\n",
       " 27: (1089.0, 18),\n",
       " 33: (1056.0, 3),\n",
       " 34: (663.0, 3),\n",
       " 35: (1069.0, 17),\n",
       " 39: (813.0, 7),\n",
       " 41: (744.0, 6),\n",
       " 46: (737.0, 7)}"
      ]
     },
     "execution_count": 4,
     "metadata": {},
     "output_type": "execute_result"
    }
   ],
   "source": [
    "ec_gac_t"
   ]
  },
  {
   "cell_type": "code",
   "execution_count": 5,
   "metadata": {
    "collapsed": false
   },
   "outputs": [],
   "source": [
    "data_pre['cluster'] = model_gac_t.labels_"
   ]
  },
  {
   "cell_type": "code",
   "execution_count": 55,
   "metadata": {
    "collapsed": false
   },
   "outputs": [
    {
     "name": "stdout",
     "output_type": "stream",
     "text": [
      "***\n",
      "289.0\n",
      "[u'alitalia', u'cassano', u'airlin', u'etihad', u'silvano', u'carrier', u'fiumicino', u'resign', u'rome', u'italian', u'montezemolo', u'reason', u'ceo', u'restructur', u'said']\n",
      "[u'Alitalia board will seek right candidate for CEO - Hogan', u\"Alitalia chief's move puts job up for grabs\", u'Cassano quits as Alitalia CEO (2)']\n",
      "***\n",
      "341.0\n",
      "[u'pesticid', u'potato', u'treat', u'rodenticid', u'crop', u'arabl', u'fungicid', u'encount', u'weight', u'survey', u'fruit', u'anticoagul', u'ware', u'2012', u'scotland']\n",
      "[u'Little sign of an organic revolution in Scotland', u'Pesticide Usage in Scotland: Arable Crops and Potato Stores 2014', u'Pesticide Usage in Scotland']\n",
      "***\n",
      "519.0\n",
      "[u'dunnhumbi', u'tesco', u'clubcard', u'wpp', u'sale', u'bidder', u'2bn', u'lewi', u'supermarket', u'dave', u'data', u'700m', u'loyalti', u'abandon', u'sunday']\n",
      "[u'Tesco to sell Euro stores for \\xa33bn', u\"Tesco 'close to ditching Dunnhumby sale plans'\", u'Tesco to keep hold of Dunnhumby data unit']\n",
      "***\n",
      "543.0\n",
      "[u'shiller', u'yale', u'professor', u'robert', u'univers', u'bubbl', u'stock', u'market', u'valuat', u'overvalu', u'warn', u'econom', u'cape', u'could', u'pullback']\n",
      "[u'Shiller: An economy incentivizes people to be manipulative', u'Fears grow over US stock market bubble', u'This is the chart that has Robert Shiller seriously worried about the stock market (DIA, SPX, SPY, QQQ, IWM, TLT)']\n",
      "***\n",
      "663.0\n",
      "[u'climat', u'un', u'poverti', u'aid', u'energi', u'tackl', u'cameron', u'sustain', u'chang', u'goal', u'spend', u'agenda', u'countri', u'tori', u'minist']\n",
      "[u'UN members pledge $100bn a year to tackle climate change', u'UK to invest \\xa35.8bn in tackling climate change in developing countries', u'Cameron pledges \\xa36bn to fight global climate change']\n",
      "***\n",
      "737.0\n",
      "[u'skyscann', u'bailli', u'temasek', u'gifford', u'stake', u'scottish', u'softbank', u'sep', u'equiti', u'edinburgh', u'bidder', u'unicorn', u'valuat', u'pension', u'singapor']\n",
      "[u'Scottish Equity Partners to offload 10% of Skyscanner - report', u'Scottish Equity Partners may sell 10% stake in Skyscanner', u'Temasek Holdings may acquire 10% stake in Skyscanner']\n",
      "***\n",
      "744.0\n",
      "[u'secondari', u'estat', u'real', u'dlj', u'portfolio', u'asset', u'partner', u'matur', u'vintag', u'liquid', u'transact', u'tail', u'group', u'investor', u'invest']\n",
      "[u'Real estate secondaries funds target $2.34bn', u'Asian RE secondaries deal volume to pick up', u'Partners Group cautious on PE, overweight RE in H2']\n",
      "***\n",
      "813.0\n",
      "[u'monterosa', u'shenfield', u'broadcast', u'24haymarket', u'lvi', u'screen', u'sport', u'mcdonnel', u'marek', u'holder', u'multiscreen', u'robin', u'tf1', u'platform', u'activ']\n",
      "[u'Monterosa Productions secures $1.82 million in Series A funding', u'Monterosa Raises \\xa31.2m in Series A Funding', u'Monterosa secures \\xa31m and appoints chairman']\n",
      "***\n",
      "1056.0\n",
      "[u'vmware', u'virtustream', u'dell', u'emc', u'cloud', u'vcloud', u'hybrid', u'air', u'got', u'servic', u'earn', u'unearn', u'virtzilla', u'cent', u'public']\n",
      "[u\"Dell's VMware-as-cell sell isn't going swell\", u'EMC animates franken-cloud with bits of itself, VMware, VCE and Virtustream', u'EMC And VMware Spin Out Virtustream As Jointly Owned Company']\n",
      "***\n",
      "1069.0\n",
      "[u'taboola', u'ndtv', u'content', u'discoveri', u'converg', u'audienc', u'recommend', u'mobil', u'partnership', u'visitor', u'desktop', u'user', u'traffic', u'site', u'rs']\n",
      "[u'NDTV expects to make Rs 90-100 crore from Taboola deal', u'Taboola Partners InMobi to Bring Content Discovery to Miip', u'InMobi and Taboola Partner To Engage Over One Billion Mobile Consumers Through Content Discovery on Native Platform']\n",
      "***\n",
      "1089.0\n",
      "[u'optim', u'ventur', u'fushman', u'andreessen', u'horowitz', u'bain', u'capit', u'ilya', u'batteri', u'index', u'pharu', u'danhua', u'146', u'correl', u'tenaya']\n",
      "[u'Optimizely raises $58 mln in latest funding', u'Testing Business Optimizely Raises $58M As It Moves Into Personalization', u'Optimizely Raises $58M for Mobile Web Personalization']\n",
      "***\n",
      "1148.0\n",
      "[u'gbx', u'lon', u'rate', u'stock', u'price', u'analyst', u'canaccord', u'genuiti', u'plc', u'buy', u'report', u'target', u'888', u'marketbeat', u'ted']\n",
      "[u'Analysts\\u2019 Updated EPS Estimates for October, 9th (888, ATRA, BP, BT, CAKE, CINE, CWIXF, DEO, ETI, FMBI)', u'Tungsten Corp PLC\\u2019s \\u201cBuy\\u201d Rating Reaffirmed at Canaccord Genuity (TUNG)', u'Tungsten Corporation (LON:TUNG) \\u201cBuy\\u201d Rating Reconfirmed by Analysts at Canaccord Genuity; With GBX 84.00 Target']\n",
      "***\n",
      "1306.0\n",
      "[u'bwin', u'gvc', u'888', u'parti', u'hold', u'sharehold', u'offer', u'recommend', u'revis', u'plc', u'bid', u'propos', u'penc', u'share', u'board']\n",
      "[u'888 jilted in betting battle', u'FOXY JILTS SUITOR', u'Bwin jilts 888 to go with GVC']\n",
      "***\n",
      "1344.0\n",
      "[u'sale', u'ted', u'store', u'baker', u'retail', u'kelvin', u'concess', u'america', u'strong', u'8m', u'half', u'north', u'august', u'uk', u'profit']\n",
      "[u\"IN THE KNOW: Analysts See More Positives In Ted Baker's Future\", u'Ted Baker PLC Interim Results -2-', u\"Ted Baker: 'we are most popular thing in US since Benny Hill'\"]\n"
     ]
    }
   ],
   "source": [
    "for name, group in data_pre.groupby('cluster'):\n",
    "    if name in [i[0] for i in ec_gac_t.values()]:\n",
    "        print \"***\"\n",
    "        print name\n",
    "#         print 'cluster found'\n",
    "        group_vsm = edenutil.recon_vsm(group['vsm'])\n",
    "        centroid = group_vsm.mean(axis=0)\n",
    "        top_indices = centroid.argsort()[::-1][:15]\n",
    "        sim = []\n",
    "        for v in group['vsm'].values:\n",
    "            sim.append(edenutil.mycosine(v, centroid))\n",
    "        print [vocab[term] for term in top_indices]\n",
    "#         print sim\n",
    "        top_articles = np.array(sim).argsort()[::-1][:3]\n",
    "        titles = group['title'].values\n",
    "        print [titles[articles] for articles in top_articles]"
   ]
  },
  {
   "cell_type": "code",
   "execution_count": 37,
   "metadata": {
    "collapsed": false
   },
   "outputs": [
    {
     "name": "stdout",
     "output_type": "stream",
     "text": [
      "<type 'numpy.ndarray'>\n"
     ]
    }
   ],
   "source": [
    "print type(centroid)"
   ]
  },
  {
   "cell_type": "code",
   "execution_count": 12,
   "metadata": {
    "collapsed": false
   },
   "outputs": [
    {
     "data": {
      "text/plain": [
       "(29, 35101)"
      ]
     },
     "execution_count": 12,
     "metadata": {},
     "output_type": "execute_result"
    }
   ],
   "source": [
    "group_vsm.shape"
   ]
  },
  {
   "cell_type": "code",
   "execution_count": 13,
   "metadata": {
    "collapsed": false
   },
   "outputs": [
    {
     "data": {
      "text/plain": [
       "0.00033127803363663358"
      ]
     },
     "execution_count": 13,
     "metadata": {},
     "output_type": "execute_result"
    }
   ],
   "source": [
    "np.mean(group_vsm)"
   ]
  },
  {
   "cell_type": "code",
   "execution_count": 16,
   "metadata": {
    "collapsed": false
   },
   "outputs": [
    {
     "data": {
      "text/plain": [
       "(35101,)"
      ]
     },
     "execution_count": 16,
     "metadata": {},
     "output_type": "execute_result"
    }
   ],
   "source": []
  },
  {
   "cell_type": "code",
   "execution_count": 19,
   "metadata": {
    "collapsed": false
   },
   "outputs": [
    {
     "name": "stdout",
     "output_type": "stream",
     "text": [
      "<type 'numpy.ndarray'>\n"
     ]
    }
   ],
   "source": [
    "print type(model_kmeans.cluster_centers_)"
   ]
  },
  {
   "cell_type": "code",
   "execution_count": 22,
   "metadata": {
    "collapsed": false
   },
   "outputs": [
    {
     "data": {
      "text/plain": [
       "array([22396, 30627,  9533, ...,  9234, 31022, 10796])"
      ]
     },
     "execution_count": 22,
     "metadata": {},
     "output_type": "execute_result"
    }
   ],
   "source": [
    "model_kmeans.cluster_centers_[0].argsort()[::-1]"
   ]
  },
  {
   "cell_type": "code",
   "execution_count": 28,
   "metadata": {
    "collapsed": false
   },
   "outputs": [],
   "source": [
    "vect = edenutil.TfidfVectorizer(use_idf=True, norm='l2', sublinear_tf=True)\n",
    "vsm = vect.fit_transform(data_pre['content_prepro'].values)"
   ]
  },
  {
   "cell_type": "code",
   "execution_count": 30,
   "metadata": {
    "collapsed": false
   },
   "outputs": [],
   "source": [
    "vocab = vect.get_feature_names()"
   ]
  },
  {
   "cell_type": "code",
   "execution_count": 46,
   "metadata": {
    "collapsed": false
   },
   "outputs": [
    {
     "data": {
      "text/plain": [
       "array([array([ 0.,  0.,  0., ...,  0.,  0.,  0.]),\n",
       "       array([ 0.,  0.,  0., ...,  0.,  0.,  0.]),\n",
       "       array([ 0.,  0.,  0., ...,  0.,  0.,  0.]),\n",
       "       array([ 0.,  0.,  0., ...,  0.,  0.,  0.]),\n",
       "       array([ 0.,  0.,  0., ...,  0.,  0.,  0.]),\n",
       "       array([ 0.,  0.,  0., ...,  0.,  0.,  0.]),\n",
       "       array([ 0.,  0.,  0., ...,  0.,  0.,  0.]),\n",
       "       array([ 0.,  0.,  0., ...,  0.,  0.,  0.]),\n",
       "       array([ 0.,  0.,  0., ...,  0.,  0.,  0.]),\n",
       "       array([ 0.,  0.,  0., ...,  0.,  0.,  0.]),\n",
       "       array([ 0.,  0.,  0., ...,  0.,  0.,  0.]),\n",
       "       array([ 0.,  0.,  0., ...,  0.,  0.,  0.]),\n",
       "       array([ 0.,  0.,  0., ...,  0.,  0.,  0.]),\n",
       "       array([ 0.,  0.,  0., ...,  0.,  0.,  0.]),\n",
       "       array([ 0.,  0.,  0., ...,  0.,  0.,  0.]),\n",
       "       array([ 0.,  0.,  0., ...,  0.,  0.,  0.]),\n",
       "       array([ 0.,  0.,  0., ...,  0.,  0.,  0.]),\n",
       "       array([ 0.,  0.,  0., ...,  0.,  0.,  0.]),\n",
       "       array([ 0.,  0.,  0., ...,  0.,  0.,  0.])], dtype=object)"
      ]
     },
     "execution_count": 46,
     "metadata": {},
     "output_type": "execute_result"
    }
   ],
   "source": [
    "group['vsm'].values"
   ]
  },
  {
   "cell_type": "code",
   "execution_count": 64,
   "metadata": {
    "collapsed": false
   },
   "outputs": [
    {
     "name": "stdout",
     "output_type": "stream",
     "text": [
      "***\n",
      "519.0\n",
      "14\n",
      "[u'dunnhumbi', u'tesco', u'clubcard', u'wpp', u'sale', u'bidder', u'2bn', u'lewi', u'supermarket', u'dave', u'data', u'700m', u'loyalti', u'abandon', u'sunday']\n",
      "[u'Tesco to sell Euro stores for \\xa33bn', u\"Tesco 'close to ditching Dunnhumby sale plans'\", u'Tesco to keep hold of Dunnhumby data unit', u'Tesco Close To Pulling \\xa3700m Data Unit Sale', u'Official: Tesco Scraps dunnhumby Sale Plans', u'Tesco close to abandoning Dunnhumby sale', u'Clubcard deal flops as Tesco eyes Poland exit', u'Tesco Dunnhumby sale on verge of collapse', u'Tesco could scrap Dunnhumby sale - reports', u'Tesco abandons Dunnhumby sale after offers drop from \\xa32bn to \\xa3700m', u'Tesco may call off dunnhumby sale', u\"Sale of Tesco's Clubcard business to WPP on the verge of collapse\", u'Official: Tesco Scraps dunnhumby Sale Plans', u'Tesco Dunnhumby sale stalls but eastern European stores could fetch \\xa33bn']\n",
      "found mismatch\n",
      "b7980e7c-cf1d-4433-8fa3-7455bc0c47d2\n"
     ]
    }
   ],
   "source": [
    "for name, group in data_pre.groupby('cluster'):\n",
    "    if name == 519.0:\n",
    "        print \"***\"\n",
    "        print name\n",
    "        print len(group)\n",
    "#         print 'cluster found'\n",
    "        group_vsm = edenutil.recon_vsm(group['vsm'])\n",
    "        centroid = group_vsm.mean(axis=0)\n",
    "        top_indices = centroid.argsort()[::-1][:15]\n",
    "        sim = []\n",
    "        for v in group['vsm'].values:\n",
    "            sim.append(edenutil.mycosine(v, centroid))\n",
    "        print [vocab[term] for term in top_indices]\n",
    "#         print sim\n",
    "        top_articles = np.array(sim).argsort()[::-1]\n",
    "        titles = group['title'].values\n",
    "        print [titles[articles] for articles in top_articles]\n",
    "        \n",
    "        incorrect = 0\n",
    "        for id_ in group['id'].values:\n",
    "            if not id_ in df_eval['story'].values:\n",
    "                print \"found mismatch\"\n",
    "                print id_"
   ]
  },
  {
   "cell_type": "code",
   "execution_count": 59,
   "metadata": {
    "collapsed": false
   },
   "outputs": [
    {
     "name": "stdout",
     "output_type": "stream",
     "text": [
      "1\n"
     ]
    }
   ],
   "source": [
    "df_eval = edenutil.get_df_eval('1')"
   ]
  },
  {
   "cell_type": "code",
   "execution_count": 60,
   "metadata": {
    "collapsed": false
   },
   "outputs": [
    {
     "data": {
      "text/html": [
       "<div>\n",
       "<table border=\"1\" class=\"dataframe\">\n",
       "  <thead>\n",
       "    <tr style=\"text-align: right;\">\n",
       "      <th></th>\n",
       "      <th>story</th>\n",
       "      <th>event</th>\n",
       "      <th>decision</th>\n",
       "    </tr>\n",
       "  </thead>\n",
       "  <tbody>\n",
       "    <tr>\n",
       "      <th>0</th>\n",
       "      <td>48f1fcb7-24af-4152-92ce-a2f2b7a72e59</td>\n",
       "      <td>1</td>\n",
       "      <td>YES</td>\n",
       "    </tr>\n",
       "    <tr>\n",
       "      <th>1</th>\n",
       "      <td>701c10d3-cac7-4bff-aa34-a821cbd4301a</td>\n",
       "      <td>1</td>\n",
       "      <td>YES</td>\n",
       "    </tr>\n",
       "    <tr>\n",
       "      <th>2</th>\n",
       "      <td>34d5dda9-c4d8-447d-b984-c8b166f6ef0e</td>\n",
       "      <td>1</td>\n",
       "      <td>YES</td>\n",
       "    </tr>\n",
       "    <tr>\n",
       "      <th>3</th>\n",
       "      <td>468e9c4e-86f8-4517-9c13-d480fbc19325</td>\n",
       "      <td>1</td>\n",
       "      <td>YES</td>\n",
       "    </tr>\n",
       "    <tr>\n",
       "      <th>4</th>\n",
       "      <td>75b924e0-fa25-47ba-a41c-7e793dc7d0b2</td>\n",
       "      <td>1</td>\n",
       "      <td>YES</td>\n",
       "    </tr>\n",
       "  </tbody>\n",
       "</table>\n",
       "</div>"
      ],
      "text/plain": [
       "                                  story  event decision\n",
       "0  48f1fcb7-24af-4152-92ce-a2f2b7a72e59      1      YES\n",
       "1  701c10d3-cac7-4bff-aa34-a821cbd4301a      1      YES\n",
       "2  34d5dda9-c4d8-447d-b984-c8b166f6ef0e      1      YES\n",
       "3  468e9c4e-86f8-4517-9c13-d480fbc19325      1      YES\n",
       "4  75b924e0-fa25-47ba-a41c-7e793dc7d0b2      1      YES"
      ]
     },
     "execution_count": 60,
     "metadata": {},
     "output_type": "execute_result"
    }
   ],
   "source": [
    "df_eval.head()"
   ]
  },
  {
   "cell_type": "code",
   "execution_count": 68,
   "metadata": {
    "collapsed": false
   },
   "outputs": [],
   "source": [
    "incorrect_article = data_pre[data_pre['id'] == 'b7980e7c-cf1d-4433-8fa3-7455bc0c47d2']"
   ]
  },
  {
   "cell_type": "code",
   "execution_count": 70,
   "metadata": {
    "collapsed": false
   },
   "outputs": [
    {
     "name": "stdout",
     "output_type": "stream",
     "text": [
      "1254    Tesco to sell Euro stores for £3bn\n",
      "Name: title, dtype: object\n"
     ]
    }
   ],
   "source": [
    "print incorrect_article.title"
   ]
  },
  {
   "cell_type": "code",
   "execution_count": null,
   "metadata": {
    "collapsed": true
   },
   "outputs": [],
   "source": []
  }
 ],
 "metadata": {
  "kernelspec": {
   "display_name": "Python 2",
   "language": "python",
   "name": "python2"
  },
  "language_info": {
   "codemirror_mode": {
    "name": "ipython",
    "version": 2
   },
   "file_extension": ".py",
   "mimetype": "text/x-python",
   "name": "python",
   "nbconvert_exporter": "python",
   "pygments_lexer": "ipython2",
   "version": "2.7.10"
  }
 },
 "nbformat": 4,
 "nbformat_minor": 0
}
